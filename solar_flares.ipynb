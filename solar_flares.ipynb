{
 "cells": [
  {
   "cell_type": "markdown",
   "metadata": {},
   "source": [
    "# Solar Flares Analysis\n",
    "#### _Bernard, Desoomer, Ramone_"
   ]
  },
  {
   "cell_type": "markdown",
   "metadata": {},
   "source": [
    "## 1. Introduction"
   ]
  },
  {
   "cell_type": "markdown",
   "metadata": {},
   "source": [
    "### What is a solar flare ?\n",
    "\n",
    "A Solar flare is the rapid release of a large amount of energy stored in the solar atmosphere. During a flare, gas is heated to 10 to 20 million degrees Kelvin (K) and radiates soft X rays and longer-wavelength emission. Unable to penetrate the Earth's atmosphere, the X rays can only be detected from space. Instruments on Skylab, SMM, the Japanese/US Yohkoh mission and other spacecraft have recorded many flares in X rays over the last twenty years or so. Ground-based observatories have recorded the visible and radio outputs. These data form the basis of our current understanding of a solar flare. But there are many possible mechanisms for heating the gas, and observations to date have not been able to differentiate between them.\n",
    "\n",
    "HESSI's new approach\n",
    "\n",
    "Researchers believe that much of the energy released during a flare is used to accelerate, to very high energies, electrons (emitting primarily X-rays) and protons and other ions (emitting primarily gamma rays). The new approach of the HESSI mission is to combine, for the first time, high-resolution imaging in hard X-rays and gamma rays with high-resolution spectroscopy, so that a detailed energy spectrum can be obtained at each point of the image.\n",
    "\n",
    "This new approach will enable researchers to find out where these particles are accelerated and to what energies. Such information will advance understanding of the fundamental high-energy processes at the core of the solar flare problem.\n",
    "https://hesperia.gsfc.nasa.gov/hessi/objectives.htm\n",
    "\n",
    "\n",
    "### Context\n",
    "Reuven Ramaty High Energy Solar Spectroscopic Imager (RHESSI, originally High Energy Solar Spectroscopic Imager or HESSI) is a NASA solar flare observatory. It is the sixth mission in the Small Explorer program, selected in October 1997 and launched on 5 February 2002. Its primary mission is to explore the physics of particle acceleration and energy release in solar flares.\n",
    "HESSI was renamed to RHESSI on 29 March 2002 in honor of Reuven Ramaty, a pioneer in the area of high energy solar physics. RHESSI is the first space mission named after a NASA scientist. RHESSI was built by Spectrum Astro for Goddard Space Flight Center and is operated by the Space Sciences Laboratory in Berkeley, California. The principal investigator from 2002 to 2012 was Robert Lin, who was succeeded by Säm Krucker.\n",
    "\n",
    "*useful links:*\n",
    "https://en.wikipedia.org/wiki/Reuven_Ramaty_High_Energy_Solar_Spectroscopic_Imager\n",
    "https://hesperia.gsfc.nasa.gov/hessi/objectives.htm\n",
    "\n",
    "Content\n",
    "Ramaty High Energy Solar Spectroscopic Imager (RHESSI)\n",
    "\n",
    "Notes:\n",
    "Note that only events with non-zero position and energy range not equal to 3-6 keV are confirmed as solar sources.\n",
    "Events which have no position and show up mostly in the front detectors, but were not able to be imaged\n",
    "are flagged as \"PS\"."
   ]
  },
  {
   "cell_type": "markdown",
   "metadata": {},
   "source": [
    "Events which do not have valid position are only confirmed to be non-solar if the NS flag is set.\n",
    "- `Peak Rate`: peak $counts/second$ in energy range $6-12 keV$, averaged over active collimators, including background.\n",
    "- `Total Counts`: counts in energy range $6-12 keV$ integrated over duration of flare summed over all subcollimators, including background.\n",
    "- `Energy`: the highest energy band in which the flare was observed. Electron $KeV$ (kilo electron volt) https://en.wikipedia.org/wiki/Electronvolt\n",
    "- `Radial Distance`: distance from Sun center\n",
    "- `Quality Codes`: $Q_n$, where $n$ is the total number of data gap, SAA, particle, eclipse or decimation flags set for event. in ranges from $0$ to $11$. Use care when analyzing the data when the quality is not zero.\n",
    "- `Active_Region`: A number for the closest active region, if available\n",
    "- `radial_offset`: the offset of the flare position from the spin axis of the spacecraft in $arcsec$. This is used in spectroscopy.\n",
    "- `peak_c/s`: peak count rate in corrected counts.\n",
    "\n",
    "Flare Flag Codes:\n",
    "- `a0` - In attenuator state 0 (None) sometime during flare\n",
    "- `a1` - In attenuator state 1 (Thin) sometime during flare\n",
    "- `a2` - In attenuator state 2 (Thick) sometime during flare\n",
    "- `a3` - In attenuator state 3 (Both) sometime during flare\n",
    "- `An` - Attenuator state (0=None, 1=Thin, 2=Thick, 3=Both) at peak of flare\n",
    "- `DF` - Front segment counts were decimated sometime during flare\n",
    "- `DR` - Rear segment counts were decimated sometime during flare\n",
    "- `ED` - Spacecraft eclipse (night) sometime during flare\n",
    "- `EE` - Flare ended in spacecraft eclipse (night)\n",
    "- `ES` - Flare started in spacecraft eclipse (night)\n",
    "- `FE` - Flare ongoing at end of file\n",
    "- `FR` - In Fast Rate Mode\n",
    "- `FS` - Flare ongoing at start of file\n",
    "- `GD` - Data gap during flare\n",
    "- `GE` - Flare ended in data gap\n",
    "- `GS` - Flare started in data gap\n",
    "- `MR` - Spacecraft in high-latitude zone during flare\n",
    "- `NS` - Non-solar event\n",
    "- `PE` - Particle event: Particles are present\n",
    "- `PS` - Possible Solar Flare; in front detectors, but no position\n",
    "- `Pn` - Position Quality: $P_0$ = Position is NOT valid, $P_1$ = Position is valid\n",
    "- `Qn` - Data Quality: $Q_0$ = Highest Quality, $Q_11$ = Lowest Quality\n",
    "- `SD` - Spacecraft was in SAA sometime during flare\n",
    "- `SE` - Flare ended when spacecraft was in SAA\n",
    "- `SS` - Flare started when spacecraft was in SAA\n"
   ]
  },
  {
   "cell_type": "markdown",
   "metadata": {},
   "source": [
    "## 2. Can we predict anything about solar flares ? \n",
    "(Where ? When ? Intensity ?)"
   ]
  },
  {
   "cell_type": "code",
   "execution_count": 1,
   "metadata": {
    "execution": {
     "iopub.execute_input": "2022-01-02T20:27:08.872682Z",
     "iopub.status.busy": "2022-01-02T20:27:08.872446Z",
     "iopub.status.idle": "2022-01-02T20:27:10.368307Z",
     "shell.execute_reply": "2022-01-02T20:27:10.366774Z",
     "shell.execute_reply.started": "2022-01-02T20:27:08.872610Z"
    },
    "scrolled": true
   },
   "outputs": [
    {
     "name": "stdout",
     "output_type": "stream",
     "text": [
      "Requirement already satisfied: pandas in /usr/lib/python3.9/site-packages (1.3.4)\n",
      "Requirement already satisfied: sklearn in /usr/lib/python3.9/site-packages (0.0)\n",
      "Requirement already satisfied: seaborn in /usr/lib/python3.9/site-packages (0.11.2)\n",
      "Requirement already satisfied: python-dateutil>=2.7.3 in /usr/lib/python3.9/site-packages (from pandas) (2.8.1)\n",
      "Requirement already satisfied: pytz>=2017.3 in /usr/lib/python3.9/site-packages (from pandas) (2020.5)\n",
      "Requirement already satisfied: numpy>=1.17.3 in /usr/lib/python3.9/site-packages (from pandas) (1.21.4)\n",
      "Requirement already satisfied: numpy>=1.17.3 in /usr/lib/python3.9/site-packages (from pandas) (1.21.4)\n",
      "Requirement already satisfied: matplotlib>=2.2 in /usr/lib/python3.9/site-packages (from seaborn) (3.5.1)\n",
      "Requirement already satisfied: pandas in /usr/lib/python3.9/site-packages (1.3.4)\n",
      "Requirement already satisfied: scipy>=1.0 in /usr/lib/python3.9/site-packages (from seaborn) (1.7.3)\n",
      "Requirement already satisfied: scikit-learn in /usr/lib/python3.9/site-packages (from sklearn) (1.0.1)\n",
      "Requirement already satisfied: fonttools>=4.22.0 in /usr/lib/python3.9/site-packages (from matplotlib>=2.2->seaborn) (4.28.3)\n",
      "Requirement already satisfied: packaging>=20.0 in /usr/lib/python3.9/site-packages (from matplotlib>=2.2->seaborn) (20.8)\n",
      "Requirement already satisfied: pillow>=6.2.0 in /usr/lib/python3.9/site-packages (from matplotlib>=2.2->seaborn) (8.4.0)\n",
      "Requirement already satisfied: numpy>=1.17.3 in /usr/lib/python3.9/site-packages (from pandas) (1.21.4)\n",
      "Requirement already satisfied: cycler>=0.10 in /usr/lib/python3.9/site-packages (from matplotlib>=2.2->seaborn) (0.11.0)\n",
      "Requirement already satisfied: pyparsing>=2.2.1 in /usr/lib/python3.9/site-packages (from matplotlib>=2.2->seaborn) (2.4.7)\n",
      "Requirement already satisfied: kiwisolver>=1.0.1 in /usr/lib/python3.9/site-packages (from matplotlib>=2.2->seaborn) (1.3.2)\n",
      "Requirement already satisfied: python-dateutil>=2.7.3 in /usr/lib/python3.9/site-packages (from pandas) (2.8.1)\n",
      "Requirement already satisfied: pyparsing>=2.2.1 in /usr/lib/python3.9/site-packages (from matplotlib>=2.2->seaborn) (2.4.7)\n",
      "Requirement already satisfied: six>=1.5 in /usr/lib/python3.9/site-packages (from python-dateutil>=2.7.3->pandas) (1.15.0)\n",
      "Requirement already satisfied: scipy>=1.0 in /usr/lib/python3.9/site-packages (from seaborn) (1.7.3)\n",
      "Requirement already satisfied: joblib>=0.11 in /usr/lib/python3.9/site-packages (from scikit-learn->sklearn) (1.1.0)\n",
      "Requirement already satisfied: threadpoolctl>=2.0.0 in /usr/lib/python3.9/site-packages (from scikit-learn->sklearn) (3.0.0)\n",
      "Requirement already satisfied: numpy>=1.17.3 in /usr/lib/python3.9/site-packages (from pandas) (1.21.4)\n",
      "Requirement already satisfied: numpy>=1.17.3 in /usr/lib/python3.9/site-packages (from pandas) (1.21.4)\n"
     ]
    }
   ],
   "source": [
    "!pip install pandas sklearn seaborn"
   ]
  },
  {
   "cell_type": "markdown",
   "metadata": {},
   "source": [
    "## 3. Methodology \n",
    "### Loading the dataset"
   ]
  },
  {
   "cell_type": "code",
   "execution_count": 2,
   "metadata": {
    "execution": {
     "iopub.execute_input": "2022-01-02T20:27:10.371599Z",
     "iopub.status.busy": "2022-01-02T20:27:10.371361Z",
     "iopub.status.idle": "2022-01-02T20:27:11.029505Z",
     "shell.execute_reply": "2022-01-02T20:27:11.028430Z",
     "shell.execute_reply.started": "2022-01-02T20:27:10.371571Z"
    }
   },
   "outputs": [
    {
     "name": "stdout",
     "output_type": "stream",
     "text": [
      "<class 'pandas.core.frame.DataFrame'>\n",
      "RangeIndex: 116143 entries, 0 to 116142\n",
      "Data columns (total 18 columns):\n",
      " #   Column            Non-Null Count   Dtype  \n",
      "---  ------            --------------   -----  \n",
      " 0   flare             116143 non-null  int64  \n",
      " 1   start.date        116143 non-null  object \n",
      " 2   start.time        116143 non-null  object \n",
      " 3   peak              116143 non-null  object \n",
      " 4   end               116143 non-null  object \n",
      " 5   duration.s        116143 non-null  int64  \n",
      " 6   peak.c/s          116143 non-null  int64  \n",
      " 7   total.counts      116143 non-null  float64\n",
      " 8   energy.kev        116143 non-null  object \n",
      " 9   x.pos.asec        116143 non-null  int64  \n",
      " 10  y.pos.asec        116143 non-null  int64  \n",
      " 11  radial            116143 non-null  int64  \n",
      " 12  active.region.ar  116143 non-null  int64  \n",
      " 13  flag.1            116143 non-null  object \n",
      " 14  flag.2            116143 non-null  object \n",
      " 15  flag.3            96236 non-null   object \n",
      " 16  flag.4            95941 non-null   object \n",
      " 17  flag.5            54963 non-null   object \n",
      "dtypes: float64(1), int64(7), object(10)\n",
      "memory usage: 15.9+ MB\n"
     ]
    }
   ],
   "source": [
    "import pandas as pd\n",
    "\n",
    "df = pd.read_csv('solar_flares_until_2018.csv')\n",
    "df.info()\n"
   ]
  },
  {
   "cell_type": "markdown",
   "metadata": {},
   "source": [
    "We can see that there is $115k+$ items, it is also pretty clean, workable."
   ]
  },
  {
   "cell_type": "code",
   "execution_count": 3,
   "metadata": {
    "execution": {
     "iopub.execute_input": "2022-01-02T20:27:11.032486Z",
     "iopub.status.busy": "2022-01-02T20:27:11.032110Z",
     "iopub.status.idle": "2022-01-02T20:27:11.159027Z",
     "shell.execute_reply": "2022-01-02T20:27:11.157605Z",
     "shell.execute_reply.started": "2022-01-02T20:27:11.032441Z"
    }
   },
   "outputs": [
    {
     "data": {
      "text/html": [
       "<div>\n",
       "<style scoped>\n",
       "    .dataframe tbody tr th:only-of-type {\n",
       "        vertical-align: middle;\n",
       "    }\n",
       "\n",
       "    .dataframe tbody tr th {\n",
       "        vertical-align: top;\n",
       "    }\n",
       "\n",
       "    .dataframe thead th {\n",
       "        text-align: right;\n",
       "    }\n",
       "</style>\n",
       "<table border=\"1\" class=\"dataframe\">\n",
       "  <thead>\n",
       "    <tr style=\"text-align: right;\">\n",
       "      <th></th>\n",
       "      <th>flare</th>\n",
       "      <th>s_date</th>\n",
       "      <th>s_time</th>\n",
       "      <th>peak</th>\n",
       "      <th>end</th>\n",
       "      <th>duration</th>\n",
       "      <th>peak_count</th>\n",
       "      <th>total</th>\n",
       "      <th>energy</th>\n",
       "      <th>x</th>\n",
       "      <th>y</th>\n",
       "      <th>radial</th>\n",
       "      <th>region</th>\n",
       "      <th>f1</th>\n",
       "      <th>f2</th>\n",
       "      <th>f3</th>\n",
       "      <th>f4</th>\n",
       "      <th>f5</th>\n",
       "      <th>s_date_full</th>\n",
       "    </tr>\n",
       "  </thead>\n",
       "  <tbody>\n",
       "    <tr>\n",
       "      <th>0</th>\n",
       "      <td>2021213</td>\n",
       "      <td>2002-02-12</td>\n",
       "      <td>21:29:56</td>\n",
       "      <td>21:33:38</td>\n",
       "      <td>21:41:48</td>\n",
       "      <td>712</td>\n",
       "      <td>136</td>\n",
       "      <td>167304.0</td>\n",
       "      <td>12-25</td>\n",
       "      <td>592</td>\n",
       "      <td>-358</td>\n",
       "      <td>692</td>\n",
       "      <td>0</td>\n",
       "      <td>A1</td>\n",
       "      <td>P1</td>\n",
       "      <td>NaN</td>\n",
       "      <td>NaN</td>\n",
       "      <td>NaN</td>\n",
       "      <td>2002-02-12 21:29:56</td>\n",
       "    </tr>\n",
       "    <tr>\n",
       "      <th>1</th>\n",
       "      <td>2021228</td>\n",
       "      <td>2002-02-12</td>\n",
       "      <td>21:44:08</td>\n",
       "      <td>21:45:06</td>\n",
       "      <td>21:48:56</td>\n",
       "      <td>288</td>\n",
       "      <td>7</td>\n",
       "      <td>9504.0</td>\n",
       "      <td>6-12</td>\n",
       "      <td>604</td>\n",
       "      <td>-341</td>\n",
       "      <td>694</td>\n",
       "      <td>9811</td>\n",
       "      <td>A1</td>\n",
       "      <td>P1</td>\n",
       "      <td>PE</td>\n",
       "      <td>Q1</td>\n",
       "      <td>NaN</td>\n",
       "      <td>2002-02-12 21:44:08</td>\n",
       "    </tr>\n",
       "    <tr>\n",
       "      <th>2</th>\n",
       "      <td>2021332</td>\n",
       "      <td>2002-02-13</td>\n",
       "      <td>00:53:24</td>\n",
       "      <td>00:54:54</td>\n",
       "      <td>00:57:00</td>\n",
       "      <td>216</td>\n",
       "      <td>15</td>\n",
       "      <td>11448.0</td>\n",
       "      <td>6-12</td>\n",
       "      <td>-310</td>\n",
       "      <td>375</td>\n",
       "      <td>487</td>\n",
       "      <td>9825</td>\n",
       "      <td>A1</td>\n",
       "      <td>P1</td>\n",
       "      <td>NaN</td>\n",
       "      <td>NaN</td>\n",
       "      <td>NaN</td>\n",
       "      <td>2002-02-13 00:53:24</td>\n",
       "    </tr>\n",
       "    <tr>\n",
       "      <th>3</th>\n",
       "      <td>2021308</td>\n",
       "      <td>2002-02-13</td>\n",
       "      <td>04:22:52</td>\n",
       "      <td>04:23:50</td>\n",
       "      <td>04:26:56</td>\n",
       "      <td>244</td>\n",
       "      <td>20</td>\n",
       "      <td>17400.0</td>\n",
       "      <td>12-25</td>\n",
       "      <td>-277</td>\n",
       "      <td>378</td>\n",
       "      <td>469</td>\n",
       "      <td>9822</td>\n",
       "      <td>A1</td>\n",
       "      <td>P1</td>\n",
       "      <td>NaN</td>\n",
       "      <td>NaN</td>\n",
       "      <td>NaN</td>\n",
       "      <td>2002-02-13 04:22:52</td>\n",
       "    </tr>\n",
       "    <tr>\n",
       "      <th>4</th>\n",
       "      <td>2021310</td>\n",
       "      <td>2002-02-13</td>\n",
       "      <td>07:03:52</td>\n",
       "      <td>07:05:14</td>\n",
       "      <td>07:07:48</td>\n",
       "      <td>236</td>\n",
       "      <td>336</td>\n",
       "      <td>313392.0</td>\n",
       "      <td>25-50</td>\n",
       "      <td>-272</td>\n",
       "      <td>390</td>\n",
       "      <td>476</td>\n",
       "      <td>9825</td>\n",
       "      <td>A1</td>\n",
       "      <td>GS</td>\n",
       "      <td>P1</td>\n",
       "      <td>PE</td>\n",
       "      <td>Q2</td>\n",
       "      <td>2002-02-13 07:03:52</td>\n",
       "    </tr>\n",
       "  </tbody>\n",
       "</table>\n",
       "</div>"
      ],
      "text/plain": [
       "     flare     s_date    s_time      peak       end  duration  peak_count  \\\n",
       "0  2021213 2002-02-12  21:29:56  21:33:38  21:41:48       712         136   \n",
       "1  2021228 2002-02-12  21:44:08  21:45:06  21:48:56       288           7   \n",
       "2  2021332 2002-02-13  00:53:24  00:54:54  00:57:00       216          15   \n",
       "3  2021308 2002-02-13  04:22:52  04:23:50  04:26:56       244          20   \n",
       "4  2021310 2002-02-13  07:03:52  07:05:14  07:07:48       236         336   \n",
       "\n",
       "      total energy    x    y  radial  region  f1  f2   f3   f4   f5  \\\n",
       "0  167304.0  12-25  592 -358     692       0  A1  P1  NaN  NaN  NaN   \n",
       "1    9504.0   6-12  604 -341     694    9811  A1  P1   PE   Q1  NaN   \n",
       "2   11448.0   6-12 -310  375     487    9825  A1  P1  NaN  NaN  NaN   \n",
       "3   17400.0  12-25 -277  378     469    9822  A1  P1  NaN  NaN  NaN   \n",
       "4  313392.0  25-50 -272  390     476    9825  A1  GS   P1   PE   Q2   \n",
       "\n",
       "          s_date_full  \n",
       "0 2002-02-12 21:29:56  \n",
       "1 2002-02-12 21:44:08  \n",
       "2 2002-02-13 00:53:24  \n",
       "3 2002-02-13 04:22:52  \n",
       "4 2002-02-13 07:03:52  "
      ]
     },
     "execution_count": 3,
     "metadata": {},
     "output_type": "execute_result"
    }
   ],
   "source": [
    "# Renaming column for easier processing\n",
    "df = df.rename(columns={\"start.date\": \"s_date\", \n",
    "                        \"start.time\": \"s_time\",\n",
    "                        \"duration.s\": \"duration\",\n",
    "                        \"peak.c/s\": \"peak_count\",\n",
    "                        \"total.counts\": \"total\",\n",
    "                        \"energy.kev\": \"energy\",\n",
    "                        \"x.pos.asec\": \"x\",\n",
    "                        \"y.pos.asec\": \"y\",\n",
    "                        \"active.region.ar\": \"region\",\n",
    "                        \"flag.1\": \"f1\",\n",
    "                        \"flag.2\": \"f2\",\n",
    "                        \"flag.3\": \"f3\",\n",
    "                        \"flag.4\": \"f4\",\n",
    "                        \"flag.5\": \"f5\"})\n",
    "\n",
    "# Formating s_date to Datetime object\n",
    "df['s_date_full'] = df[\"s_date\"] + ' ' + df[\"s_time\"]\n",
    "df['s_date_full'] = pd.to_datetime(df['s_date_full'], format='%Y-%m-%d %H:%M:%S')\n",
    "\n",
    "# df['s_date_full'] = df['s_date_full'].apply(lambda x: x.value)\n",
    "df['s_date'] = pd.to_datetime(df['s_date'], format='%Y-%m-%d')\n",
    "df.head()"
   ]
  },
  {
   "cell_type": "code",
   "execution_count": 4,
   "metadata": {
    "execution": {
     "iopub.execute_input": "2022-01-02T20:27:11.161399Z",
     "iopub.status.busy": "2022-01-02T20:27:11.161003Z",
     "iopub.status.idle": "2022-01-02T20:27:11.519252Z",
     "shell.execute_reply": "2022-01-02T20:27:11.518273Z",
     "shell.execute_reply.started": "2022-01-02T20:27:11.161357Z"
    }
   },
   "outputs": [
    {
     "data": {
      "text/plain": [
       "array(['12-25', '6-12', '25-50', '3-6', '50-100', '100-300', '300-800',\n",
       "       '7000-20000', '800-7000'], dtype=object)"
      ]
     },
     "execution_count": 4,
     "metadata": {},
     "output_type": "execute_result"
    }
   ],
   "source": [
    "df['energy'].unique()"
   ]
  },
  {
   "cell_type": "markdown",
   "metadata": {},
   "source": [
    "We can see that `energy` is a range, we can give it a corresponding level"
   ]
  },
  {
   "cell_type": "code",
   "execution_count": 5,
   "metadata": {
    "execution": {
     "iopub.execute_input": "2022-01-02T20:27:11.521697Z",
     "iopub.status.busy": "2022-01-02T20:27:11.521296Z",
     "iopub.status.idle": "2022-01-02T20:27:12.126697Z",
     "shell.execute_reply": "2022-01-02T20:27:12.125765Z",
     "shell.execute_reply.started": "2022-01-02T20:27:11.521650Z"
    }
   },
   "outputs": [
    {
     "data": {
      "text/html": [
       "<div>\n",
       "<style scoped>\n",
       "    .dataframe tbody tr th:only-of-type {\n",
       "        vertical-align: middle;\n",
       "    }\n",
       "\n",
       "    .dataframe tbody tr th {\n",
       "        vertical-align: top;\n",
       "    }\n",
       "\n",
       "    .dataframe thead th {\n",
       "        text-align: right;\n",
       "    }\n",
       "</style>\n",
       "<table border=\"1\" class=\"dataframe\">\n",
       "  <thead>\n",
       "    <tr style=\"text-align: right;\">\n",
       "      <th></th>\n",
       "      <th>flare</th>\n",
       "      <th>s_date</th>\n",
       "      <th>s_time</th>\n",
       "      <th>peak</th>\n",
       "      <th>end</th>\n",
       "      <th>duration</th>\n",
       "      <th>peak_count</th>\n",
       "      <th>total</th>\n",
       "      <th>energy</th>\n",
       "      <th>x</th>\n",
       "      <th>y</th>\n",
       "      <th>radial</th>\n",
       "      <th>region</th>\n",
       "      <th>f1</th>\n",
       "      <th>f2</th>\n",
       "      <th>f3</th>\n",
       "      <th>f4</th>\n",
       "      <th>f5</th>\n",
       "      <th>s_date_full</th>\n",
       "    </tr>\n",
       "  </thead>\n",
       "  <tbody>\n",
       "    <tr>\n",
       "      <th>0</th>\n",
       "      <td>2021213</td>\n",
       "      <td>2002-02-12</td>\n",
       "      <td>21:29:56</td>\n",
       "      <td>21:33:38</td>\n",
       "      <td>21:41:48</td>\n",
       "      <td>712</td>\n",
       "      <td>136</td>\n",
       "      <td>167304.0</td>\n",
       "      <td>3</td>\n",
       "      <td>592</td>\n",
       "      <td>-358</td>\n",
       "      <td>692</td>\n",
       "      <td>0</td>\n",
       "      <td>A1</td>\n",
       "      <td>P1</td>\n",
       "      <td>NaN</td>\n",
       "      <td>NaN</td>\n",
       "      <td>NaN</td>\n",
       "      <td>2002-02-12 21:29:56</td>\n",
       "    </tr>\n",
       "    <tr>\n",
       "      <th>1</th>\n",
       "      <td>2021228</td>\n",
       "      <td>2002-02-12</td>\n",
       "      <td>21:44:08</td>\n",
       "      <td>21:45:06</td>\n",
       "      <td>21:48:56</td>\n",
       "      <td>288</td>\n",
       "      <td>7</td>\n",
       "      <td>9504.0</td>\n",
       "      <td>2</td>\n",
       "      <td>604</td>\n",
       "      <td>-341</td>\n",
       "      <td>694</td>\n",
       "      <td>9811</td>\n",
       "      <td>A1</td>\n",
       "      <td>P1</td>\n",
       "      <td>PE</td>\n",
       "      <td>Q1</td>\n",
       "      <td>NaN</td>\n",
       "      <td>2002-02-12 21:44:08</td>\n",
       "    </tr>\n",
       "    <tr>\n",
       "      <th>2</th>\n",
       "      <td>2021332</td>\n",
       "      <td>2002-02-13</td>\n",
       "      <td>00:53:24</td>\n",
       "      <td>00:54:54</td>\n",
       "      <td>00:57:00</td>\n",
       "      <td>216</td>\n",
       "      <td>15</td>\n",
       "      <td>11448.0</td>\n",
       "      <td>2</td>\n",
       "      <td>-310</td>\n",
       "      <td>375</td>\n",
       "      <td>487</td>\n",
       "      <td>9825</td>\n",
       "      <td>A1</td>\n",
       "      <td>P1</td>\n",
       "      <td>NaN</td>\n",
       "      <td>NaN</td>\n",
       "      <td>NaN</td>\n",
       "      <td>2002-02-13 00:53:24</td>\n",
       "    </tr>\n",
       "    <tr>\n",
       "      <th>3</th>\n",
       "      <td>2021308</td>\n",
       "      <td>2002-02-13</td>\n",
       "      <td>04:22:52</td>\n",
       "      <td>04:23:50</td>\n",
       "      <td>04:26:56</td>\n",
       "      <td>244</td>\n",
       "      <td>20</td>\n",
       "      <td>17400.0</td>\n",
       "      <td>3</td>\n",
       "      <td>-277</td>\n",
       "      <td>378</td>\n",
       "      <td>469</td>\n",
       "      <td>9822</td>\n",
       "      <td>A1</td>\n",
       "      <td>P1</td>\n",
       "      <td>NaN</td>\n",
       "      <td>NaN</td>\n",
       "      <td>NaN</td>\n",
       "      <td>2002-02-13 04:22:52</td>\n",
       "    </tr>\n",
       "    <tr>\n",
       "      <th>4</th>\n",
       "      <td>2021310</td>\n",
       "      <td>2002-02-13</td>\n",
       "      <td>07:03:52</td>\n",
       "      <td>07:05:14</td>\n",
       "      <td>07:07:48</td>\n",
       "      <td>236</td>\n",
       "      <td>336</td>\n",
       "      <td>313392.0</td>\n",
       "      <td>4</td>\n",
       "      <td>-272</td>\n",
       "      <td>390</td>\n",
       "      <td>476</td>\n",
       "      <td>9825</td>\n",
       "      <td>A1</td>\n",
       "      <td>GS</td>\n",
       "      <td>P1</td>\n",
       "      <td>PE</td>\n",
       "      <td>Q2</td>\n",
       "      <td>2002-02-13 07:03:52</td>\n",
       "    </tr>\n",
       "  </tbody>\n",
       "</table>\n",
       "</div>"
      ],
      "text/plain": [
       "     flare     s_date    s_time      peak       end  duration  peak_count  \\\n",
       "0  2021213 2002-02-12  21:29:56  21:33:38  21:41:48       712         136   \n",
       "1  2021228 2002-02-12  21:44:08  21:45:06  21:48:56       288           7   \n",
       "2  2021332 2002-02-13  00:53:24  00:54:54  00:57:00       216          15   \n",
       "3  2021308 2002-02-13  04:22:52  04:23:50  04:26:56       244          20   \n",
       "4  2021310 2002-02-13  07:03:52  07:05:14  07:07:48       236         336   \n",
       "\n",
       "      total  energy    x    y  radial  region  f1  f2   f3   f4   f5  \\\n",
       "0  167304.0       3  592 -358     692       0  A1  P1  NaN  NaN  NaN   \n",
       "1    9504.0       2  604 -341     694    9811  A1  P1   PE   Q1  NaN   \n",
       "2   11448.0       2 -310  375     487    9825  A1  P1  NaN  NaN  NaN   \n",
       "3   17400.0       3 -277  378     469    9822  A1  P1  NaN  NaN  NaN   \n",
       "4  313392.0       4 -272  390     476    9825  A1  GS   P1   PE   Q2   \n",
       "\n",
       "          s_date_full  \n",
       "0 2002-02-12 21:29:56  \n",
       "1 2002-02-12 21:44:08  \n",
       "2 2002-02-13 00:53:24  \n",
       "3 2002-02-13 04:22:52  \n",
       "4 2002-02-13 07:03:52  "
      ]
     },
     "execution_count": 5,
     "metadata": {},
     "output_type": "execute_result"
    }
   ],
   "source": [
    "df.loc[df['energy'] == \"3-6\", 'energy'] = 1\n",
    "df.loc[df['energy'] == \"6-12\", 'energy'] = 2\n",
    "df.loc[df['energy'] == \"12-25\", 'energy'] = 3\n",
    "df.loc[df['energy'] == \"25-50\", 'energy'] = 4\n",
    "df.loc[df['energy'] == \"50-100\", 'energy'] = 5\n",
    "df.loc[df['energy'] == \"100-300\", 'energy'] = 6\n",
    "df.loc[df['energy'] == \"300-800\", 'energy'] = 7\n",
    "df.loc[df['energy'] == \"800-7000\", 'energy'] = 8\n",
    "df.loc[df['energy'] == \"7000-20000\", 'energy'] = 9\n",
    "\n",
    "df['energy'] = df['energy'].apply(lambda x: int(x)) # casting to int\n",
    "\n",
    "df.head()"
   ]
  },
  {
   "cell_type": "markdown",
   "metadata": {},
   "source": [
    "`energy` is now a level :\n",
    "- 1 : $]3-6]\\ KeV$\n",
    "- 2 : $]6-12]\\ KeV$\n",
    "- 3 : $]12-25]\\ KeV$\n",
    "- 4 : $]25-50]\\ KeV$\n",
    "- 5 : $]50-100]\\ KeV$\n",
    "- 6 : $]100-300]\\ KeV$\n",
    "- 7 : $]300-800]\\ KeV$\n",
    "- 8 : $]800-7000]\\ KeV$\n",
    "- 9 : $]7000-20000]\\ KeV$\n",
    "- 0 : everything else"
   ]
  },
  {
   "cell_type": "markdown",
   "metadata": {},
   "source": [
    "Number of flare by ```energy level```"
   ]
  },
  {
   "cell_type": "code",
   "execution_count": 6,
   "metadata": {
    "execution": {
     "iopub.execute_input": "2022-01-02T20:27:12.127890Z",
     "iopub.status.busy": "2022-01-02T20:27:12.127690Z",
     "iopub.status.idle": "2022-01-02T20:27:13.765414Z",
     "shell.execute_reply": "2022-01-02T20:27:13.764847Z",
     "shell.execute_reply.started": "2022-01-02T20:27:12.127866Z"
    }
   },
   "outputs": [
    {
     "data": {
      "text/plain": [
       "<AxesSubplot:xlabel='energy', ylabel='Count'>"
      ]
     },
     "execution_count": 6,
     "metadata": {},
     "output_type": "execute_result"
    },
    {
     "data": {
      "image/png": "[encoded data removed]",
      "text/plain": [
       "<Figure size 432x288 with 1 Axes>"
      ]
     },
     "metadata": {
      "needs_background": "light"
     },
     "output_type": "display_data"
    }
   ],
   "source": [
    "import seaborn as sns\n",
    "\n",
    "sns.histplot(df['energy'])\n"
   ]
  },
  {
   "cell_type": "markdown",
   "metadata": {},
   "source": [
    "Number of flare by ```total```"
   ]
  },
  {
   "cell_type": "code",
   "execution_count": 7,
   "metadata": {
    "execution": {
     "iopub.execute_input": "2022-01-02T20:27:13.766643Z",
     "iopub.status.busy": "2022-01-02T20:27:13.766449Z",
     "iopub.status.idle": "2022-01-02T20:27:13.784956Z",
     "shell.execute_reply": "2022-01-02T20:27:13.784099Z",
     "shell.execute_reply.started": "2022-01-02T20:27:13.766617Z"
    }
   },
   "outputs": [
    {
     "data": {
      "text/plain": [
       "flare          46\n",
       "s_date         46\n",
       "s_time         46\n",
       "peak           46\n",
       "end            46\n",
       "duration       46\n",
       "peak_count     46\n",
       "total          46\n",
       "energy         46\n",
       "x              46\n",
       "y              46\n",
       "radial         46\n",
       "region         46\n",
       "f1             46\n",
       "f2             46\n",
       "f3             46\n",
       "f4             46\n",
       "f5             44\n",
       "s_date_full    46\n",
       "dtype: int64"
      ]
     },
     "execution_count": 7,
     "metadata": {},
     "output_type": "execute_result"
    }
   ],
   "source": [
    "df.loc[df['total'] > 50_000_000].sort_values(by=['total'], ascending=False).count()"
   ]
  },
  {
   "cell_type": "markdown",
   "metadata": {},
   "source": [
    "We have 46 noticeable flares"
   ]
  },
  {
   "cell_type": "code",
   "execution_count": 8,
   "metadata": {
    "execution": {
     "iopub.execute_input": "2022-01-02T20:27:13.788666Z",
     "iopub.status.busy": "2022-01-02T20:27:13.788312Z",
     "iopub.status.idle": "2022-01-02T20:27:14.502425Z",
     "shell.execute_reply": "2022-01-02T20:27:14.501369Z",
     "shell.execute_reply.started": "2022-01-02T20:27:13.788623Z"
    }
   },
   "outputs": [
    {
     "data": {
      "text/plain": [
       "<AxesSubplot:xlabel='year', ylabel='Count'>"
      ]
     },
     "execution_count": 8,
     "metadata": {},
     "output_type": "execute_result"
    },
    {
     "data": {
      "image/png": "[encoded data removed]",
      "text/plain": [
       "<Figure size 432x288 with 1 Axes>"
      ]
     },
     "metadata": {
      "needs_background": "light"
     },
     "output_type": "display_data"
    }
   ],
   "source": [
    "years = df['s_date'].dt.year\n",
    "df_2 = df\n",
    "df_2['year'] = years\n",
    "df_2.head()\n",
    "sns.histplot(df_2['year'], binwidth=1)"
   ]
  },
  {
   "cell_type": "markdown",
   "metadata": {},
   "source": [
    "Now we'll investigate the biggest flares"
   ]
  },
  {
   "cell_type": "markdown",
   "metadata": {},
   "source": [
    "First we need to know if there is a correlation between ```energy level``` and size of the flare (```radial```)"
   ]
  },
  {
   "cell_type": "code",
   "execution_count": 9,
   "metadata": {
    "execution": {
     "iopub.execute_input": "2022-01-02T20:27:14.504903Z",
     "iopub.status.busy": "2022-01-02T20:27:14.504576Z",
     "iopub.status.idle": "2022-01-02T20:27:16.447321Z",
     "shell.execute_reply": "2022-01-02T20:27:16.446139Z",
     "shell.execute_reply.started": "2022-01-02T20:27:14.504865Z"
    }
   },
   "outputs": [
    {
     "data": {
      "text/plain": [
       "<AxesSubplot:xlabel='energy', ylabel='radial'>"
      ]
     },
     "execution_count": 9,
     "metadata": {},
     "output_type": "execute_result"
    },
    {
     "data": {
      "image/png": "[encoded data removed]",
      "text/plain": [
       "<Figure size 432x288 with 1 Axes>"
      ]
     },
     "metadata": {
      "needs_background": "light"
     },
     "output_type": "display_data"
    }
   ],
   "source": [
    "sns.lineplot(data=df, x='energy', y='radial')"
   ]
  },
  {
   "cell_type": "code",
   "execution_count": 10,
   "metadata": {
    "execution": {
     "iopub.execute_input": "2022-01-02T20:27:16.450897Z",
     "iopub.status.busy": "2022-01-02T20:27:16.450541Z",
     "iopub.status.idle": "2022-01-02T20:27:17.261317Z",
     "shell.execute_reply": "2022-01-02T20:27:17.260246Z",
     "shell.execute_reply.started": "2022-01-02T20:27:16.450849Z"
    }
   },
   "outputs": [
    {
     "data": {
      "text/plain": [
       "count    116143.000000\n",
       "mean        687.896989\n",
       "std         511.364382\n",
       "min           0.000000\n",
       "25%         467.000000\n",
       "50%         759.000000\n",
       "75%         946.000000\n",
       "max       14154.000000\n",
       "Name: radial, dtype: float64"
      ]
     },
     "execution_count": 10,
     "metadata": {},
     "output_type": "execute_result"
    },
    {
     "data": {
      "image/png": "[encoded data removed]",
      "text/plain": [
       "<Figure size 432x288 with 1 Axes>"
      ]
     },
     "metadata": {
      "needs_background": "light"
     },
     "output_type": "display_data"
    }
   ],
   "source": [
    "import numpy as np\n",
    "\n",
    "sns.kdeplot(df[\"radial\"])\n",
    "df['radial'].describe()"
   ]
  },
  {
   "cell_type": "markdown",
   "metadata": {},
   "source": [
    "The bump at $14k$ is weird"
   ]
  },
  {
   "cell_type": "code",
   "execution_count": 11,
   "metadata": {
    "execution": {
     "iopub.execute_input": "2022-01-02T20:27:17.263618Z",
     "iopub.status.busy": "2022-01-02T20:27:17.263281Z",
     "iopub.status.idle": "2022-01-02T20:27:17.505498Z",
     "shell.execute_reply": "2022-01-02T20:27:17.504629Z",
     "shell.execute_reply.started": "2022-01-02T20:27:17.263575Z"
    }
   },
   "outputs": [
    {
     "data": {
      "text/plain": [
       "<AxesSubplot:xlabel='radial', ylabel='Count'>"
      ]
     },
     "execution_count": 11,
     "metadata": {},
     "output_type": "execute_result"
    },
    {
     "data": {
      "image/png": "[encoded data removed]",
      "text/plain": [
       "<Figure size 432x288 with 1 Axes>"
      ]
     },
     "metadata": {
      "needs_background": "light"
     },
     "output_type": "display_data"
    }
   ],
   "source": [
    "df.loc[df['radial'] > 13999].count()\n",
    "df_bf = df.loc[df[\"radial\"] > 14130] # Making a dataframe according\n",
    "sns.histplot(df_bf['radial'])"
   ]
  },
  {
   "cell_type": "markdown",
   "metadata": {},
   "source": [
    "It might be an anomaly, we'll keep that in mind"
   ]
  },
  {
   "cell_type": "markdown",
   "metadata": {},
   "source": [
    "## 3. Onto the model \n",
    "### preparing the data\n",
    "(a quick recap of the dataset)"
   ]
  },
  {
   "cell_type": "code",
   "execution_count": 12,
   "metadata": {
    "execution": {
     "iopub.execute_input": "2022-01-02T20:27:17.507105Z",
     "iopub.status.busy": "2022-01-02T20:27:17.506803Z",
     "iopub.status.idle": "2022-01-02T20:27:17.804868Z",
     "shell.execute_reply": "2022-01-02T20:27:17.804105Z",
     "shell.execute_reply.started": "2022-01-02T20:27:17.507065Z"
    }
   },
   "outputs": [
    {
     "name": "stdout",
     "output_type": "stream",
     "text": [
      "<class 'pandas.core.frame.DataFrame'>\n",
      "RangeIndex: 116143 entries, 0 to 116142\n",
      "Data columns (total 20 columns):\n",
      " #   Column       Non-Null Count   Dtype         \n",
      "---  ------       --------------   -----         \n",
      " 0   flare        116143 non-null  int64         \n",
      " 1   s_date       116143 non-null  datetime64[ns]\n",
      " 2   s_time       116143 non-null  object        \n",
      " 3   peak         116143 non-null  object        \n",
      " 4   end          116143 non-null  object        \n",
      " 5   duration     116143 non-null  int64         \n",
      " 6   peak_count   116143 non-null  int64         \n",
      " 7   total        116143 non-null  float64       \n",
      " 8   energy       116143 non-null  int64         \n",
      " 9   x            116143 non-null  int64         \n",
      " 10  y            116143 non-null  int64         \n",
      " 11  radial       116143 non-null  int64         \n",
      " 12  region       116143 non-null  int64         \n",
      " 13  f1           116143 non-null  object        \n",
      " 14  f2           116143 non-null  object        \n",
      " 15  f3           96236 non-null   object        \n",
      " 16  f4           95941 non-null   object        \n",
      " 17  f5           54963 non-null   object        \n",
      " 18  s_date_full  116143 non-null  datetime64[ns]\n",
      " 19  year         116143 non-null  int64         \n",
      "dtypes: datetime64[ns](2), float64(1), int64(9), object(8)\n",
      "memory usage: 17.7+ MB\n"
     ]
    }
   ],
   "source": [
    "df.info()"
   ]
  },
  {
   "cell_type": "markdown",
   "metadata": {},
   "source": [
    "In our little project, we won't dive into the relevance of the flags\n",
    "However we would like to see the correlations"
   ]
  },
  {
   "cell_type": "code",
   "execution_count": 13,
   "metadata": {
    "execution": {
     "iopub.execute_input": "2022-01-02T20:27:17.806356Z",
     "iopub.status.busy": "2022-01-02T20:27:17.805993Z",
     "iopub.status.idle": "2022-01-02T20:27:18.835551Z",
     "shell.execute_reply": "2022-01-02T20:27:18.834486Z",
     "shell.execute_reply.started": "2022-01-02T20:27:17.806314Z"
    }
   },
   "outputs": [
    {
     "data": {
      "text/html": [
       "<div>\n",
       "<style scoped>\n",
       "    .dataframe tbody tr th:only-of-type {\n",
       "        vertical-align: middle;\n",
       "    }\n",
       "\n",
       "    .dataframe tbody tr th {\n",
       "        vertical-align: top;\n",
       "    }\n",
       "\n",
       "    .dataframe thead th {\n",
       "        text-align: right;\n",
       "    }\n",
       "</style>\n",
       "<table border=\"1\" class=\"dataframe\">\n",
       "  <thead>\n",
       "    <tr style=\"text-align: right;\">\n",
       "      <th></th>\n",
       "      <th>flare</th>\n",
       "      <th>duration</th>\n",
       "      <th>peak_count</th>\n",
       "      <th>total</th>\n",
       "      <th>energy</th>\n",
       "      <th>x</th>\n",
       "      <th>y</th>\n",
       "      <th>radial</th>\n",
       "      <th>region</th>\n",
       "      <th>year</th>\n",
       "    </tr>\n",
       "  </thead>\n",
       "  <tbody>\n",
       "    <tr>\n",
       "      <th>flare</th>\n",
       "      <td>1.000000</td>\n",
       "      <td>-0.008018</td>\n",
       "      <td>-0.005845</td>\n",
       "      <td>-0.011844</td>\n",
       "      <td>0.003448</td>\n",
       "      <td>-0.010806</td>\n",
       "      <td>0.001389</td>\n",
       "      <td>0.007931</td>\n",
       "      <td>0.033951</td>\n",
       "      <td>0.357488</td>\n",
       "    </tr>\n",
       "    <tr>\n",
       "      <th>duration</th>\n",
       "      <td>-0.008018</td>\n",
       "      <td>1.000000</td>\n",
       "      <td>0.275649</td>\n",
       "      <td>0.262922</td>\n",
       "      <td>0.328438</td>\n",
       "      <td>0.002521</td>\n",
       "      <td>-0.012651</td>\n",
       "      <td>0.006203</td>\n",
       "      <td>0.004843</td>\n",
       "      <td>-0.008928</td>\n",
       "    </tr>\n",
       "    <tr>\n",
       "      <th>peak_count</th>\n",
       "      <td>-0.005845</td>\n",
       "      <td>0.275649</td>\n",
       "      <td>1.000000</td>\n",
       "      <td>0.832711</td>\n",
       "      <td>0.320185</td>\n",
       "      <td>0.001481</td>\n",
       "      <td>0.000669</td>\n",
       "      <td>-0.014224</td>\n",
       "      <td>0.001299</td>\n",
       "      <td>-0.025883</td>\n",
       "    </tr>\n",
       "    <tr>\n",
       "      <th>total</th>\n",
       "      <td>-0.011844</td>\n",
       "      <td>0.262922</td>\n",
       "      <td>0.832711</td>\n",
       "      <td>1.000000</td>\n",
       "      <td>0.204112</td>\n",
       "      <td>0.000684</td>\n",
       "      <td>-0.000049</td>\n",
       "      <td>-0.002644</td>\n",
       "      <td>0.001583</td>\n",
       "      <td>-0.033011</td>\n",
       "    </tr>\n",
       "    <tr>\n",
       "      <th>energy</th>\n",
       "      <td>0.003448</td>\n",
       "      <td>0.328438</td>\n",
       "      <td>0.320185</td>\n",
       "      <td>0.204112</td>\n",
       "      <td>1.000000</td>\n",
       "      <td>0.008706</td>\n",
       "      <td>-0.012654</td>\n",
       "      <td>0.152946</td>\n",
       "      <td>0.127438</td>\n",
       "      <td>-0.027248</td>\n",
       "    </tr>\n",
       "    <tr>\n",
       "      <th>x</th>\n",
       "      <td>-0.010806</td>\n",
       "      <td>0.002521</td>\n",
       "      <td>0.001481</td>\n",
       "      <td>0.000684</td>\n",
       "      <td>0.008706</td>\n",
       "      <td>1.000000</td>\n",
       "      <td>0.331828</td>\n",
       "      <td>-0.326671</td>\n",
       "      <td>0.044989</td>\n",
       "      <td>-0.013375</td>\n",
       "    </tr>\n",
       "    <tr>\n",
       "      <th>y</th>\n",
       "      <td>0.001389</td>\n",
       "      <td>-0.012651</td>\n",
       "      <td>0.000669</td>\n",
       "      <td>-0.000049</td>\n",
       "      <td>-0.012654</td>\n",
       "      <td>0.331828</td>\n",
       "      <td>1.000000</td>\n",
       "      <td>-0.627394</td>\n",
       "      <td>0.011571</td>\n",
       "      <td>-0.009204</td>\n",
       "    </tr>\n",
       "    <tr>\n",
       "      <th>radial</th>\n",
       "      <td>0.007931</td>\n",
       "      <td>0.006203</td>\n",
       "      <td>-0.014224</td>\n",
       "      <td>-0.002644</td>\n",
       "      <td>0.152946</td>\n",
       "      <td>-0.326671</td>\n",
       "      <td>-0.627394</td>\n",
       "      <td>1.000000</td>\n",
       "      <td>0.030385</td>\n",
       "      <td>0.044313</td>\n",
       "    </tr>\n",
       "    <tr>\n",
       "      <th>region</th>\n",
       "      <td>0.033951</td>\n",
       "      <td>0.004843</td>\n",
       "      <td>0.001299</td>\n",
       "      <td>0.001583</td>\n",
       "      <td>0.127438</td>\n",
       "      <td>0.044989</td>\n",
       "      <td>0.011571</td>\n",
       "      <td>0.030385</td>\n",
       "      <td>1.000000</td>\n",
       "      <td>0.153869</td>\n",
       "    </tr>\n",
       "    <tr>\n",
       "      <th>year</th>\n",
       "      <td>0.357488</td>\n",
       "      <td>-0.008928</td>\n",
       "      <td>-0.025883</td>\n",
       "      <td>-0.033011</td>\n",
       "      <td>-0.027248</td>\n",
       "      <td>-0.013375</td>\n",
       "      <td>-0.009204</td>\n",
       "      <td>0.044313</td>\n",
       "      <td>0.153869</td>\n",
       "      <td>1.000000</td>\n",
       "    </tr>\n",
       "  </tbody>\n",
       "</table>\n",
       "</div>"
      ],
      "text/plain": [
       "               flare  duration  peak_count     total    energy         x  \\\n",
       "flare       1.000000 -0.008018   -0.005845 -0.011844  0.003448 -0.010806   \n",
       "duration   -0.008018  1.000000    0.275649  0.262922  0.328438  0.002521   \n",
       "peak_count -0.005845  0.275649    1.000000  0.832711  0.320185  0.001481   \n",
       "total      -0.011844  0.262922    0.832711  1.000000  0.204112  0.000684   \n",
       "energy      0.003448  0.328438    0.320185  0.204112  1.000000  0.008706   \n",
       "x          -0.010806  0.002521    0.001481  0.000684  0.008706  1.000000   \n",
       "y           0.001389 -0.012651    0.000669 -0.000049 -0.012654  0.331828   \n",
       "radial      0.007931  0.006203   -0.014224 -0.002644  0.152946 -0.326671   \n",
       "region      0.033951  0.004843    0.001299  0.001583  0.127438  0.044989   \n",
       "year        0.357488 -0.008928   -0.025883 -0.033011 -0.027248 -0.013375   \n",
       "\n",
       "                   y    radial    region      year  \n",
       "flare       0.001389  0.007931  0.033951  0.357488  \n",
       "duration   -0.012651  0.006203  0.004843 -0.008928  \n",
       "peak_count  0.000669 -0.014224  0.001299 -0.025883  \n",
       "total      -0.000049 -0.002644  0.001583 -0.033011  \n",
       "energy     -0.012654  0.152946  0.127438 -0.027248  \n",
       "x           0.331828 -0.326671  0.044989 -0.013375  \n",
       "y           1.000000 -0.627394  0.011571 -0.009204  \n",
       "radial     -0.627394  1.000000  0.030385  0.044313  \n",
       "region      0.011571  0.030385  1.000000  0.153869  \n",
       "year       -0.009204  0.044313  0.153869  1.000000  "
      ]
     },
     "execution_count": 13,
     "metadata": {},
     "output_type": "execute_result"
    },
    {
     "data": {
      "image/png": "[encoded data removed]",
      "text/plain": [
       "<Figure size 432x288 with 2 Axes>"
      ]
     },
     "metadata": {
      "needs_background": "light"
     },
     "output_type": "display_data"
    }
   ],
   "source": [
    "sns.heatmap(df.corr(), annot = True)\n",
    "df.corr()"
   ]
  },
  {
   "cell_type": "code",
   "execution_count": 14,
   "metadata": {
    "execution": {
     "iopub.execute_input": "2022-01-02T20:27:18.837005Z",
     "iopub.status.busy": "2022-01-02T20:27:18.836689Z",
     "iopub.status.idle": "2022-01-02T20:27:18.856000Z",
     "shell.execute_reply": "2022-01-02T20:27:18.855134Z",
     "shell.execute_reply.started": "2022-01-02T20:27:18.836977Z"
    }
   },
   "outputs": [
    {
     "data": {
      "text/html": [
       "<div>\n",
       "<style scoped>\n",
       "    .dataframe tbody tr th:only-of-type {\n",
       "        vertical-align: middle;\n",
       "    }\n",
       "\n",
       "    .dataframe tbody tr th {\n",
       "        vertical-align: top;\n",
       "    }\n",
       "\n",
       "    .dataframe thead th {\n",
       "        text-align: right;\n",
       "    }\n",
       "</style>\n",
       "<table border=\"1\" class=\"dataframe\">\n",
       "  <thead>\n",
       "    <tr style=\"text-align: right;\">\n",
       "      <th></th>\n",
       "      <th>flare</th>\n",
       "      <th>s_date</th>\n",
       "      <th>s_time</th>\n",
       "      <th>peak</th>\n",
       "      <th>end</th>\n",
       "      <th>duration</th>\n",
       "      <th>peak_count</th>\n",
       "      <th>total</th>\n",
       "      <th>energy</th>\n",
       "      <th>x</th>\n",
       "      <th>y</th>\n",
       "      <th>radial</th>\n",
       "      <th>region</th>\n",
       "      <th>f1</th>\n",
       "      <th>f2</th>\n",
       "      <th>f3</th>\n",
       "      <th>f4</th>\n",
       "      <th>f5</th>\n",
       "      <th>s_date_full</th>\n",
       "      <th>year</th>\n",
       "    </tr>\n",
       "  </thead>\n",
       "  <tbody>\n",
       "    <tr>\n",
       "      <th>0</th>\n",
       "      <td>2021213</td>\n",
       "      <td>2002-02-12</td>\n",
       "      <td>21:29:56</td>\n",
       "      <td>21:33:38</td>\n",
       "      <td>21:41:48</td>\n",
       "      <td>712</td>\n",
       "      <td>136</td>\n",
       "      <td>167304.0</td>\n",
       "      <td>3</td>\n",
       "      <td>592</td>\n",
       "      <td>-358</td>\n",
       "      <td>692</td>\n",
       "      <td>0</td>\n",
       "      <td>A1</td>\n",
       "      <td>P1</td>\n",
       "      <td>NaN</td>\n",
       "      <td>NaN</td>\n",
       "      <td>NaN</td>\n",
       "      <td>2002-02-12 21:29:56</td>\n",
       "      <td>2002</td>\n",
       "    </tr>\n",
       "    <tr>\n",
       "      <th>1</th>\n",
       "      <td>2021228</td>\n",
       "      <td>2002-02-12</td>\n",
       "      <td>21:44:08</td>\n",
       "      <td>21:45:06</td>\n",
       "      <td>21:48:56</td>\n",
       "      <td>288</td>\n",
       "      <td>7</td>\n",
       "      <td>9504.0</td>\n",
       "      <td>2</td>\n",
       "      <td>604</td>\n",
       "      <td>-341</td>\n",
       "      <td>694</td>\n",
       "      <td>9811</td>\n",
       "      <td>A1</td>\n",
       "      <td>P1</td>\n",
       "      <td>PE</td>\n",
       "      <td>Q1</td>\n",
       "      <td>NaN</td>\n",
       "      <td>2002-02-12 21:44:08</td>\n",
       "      <td>2002</td>\n",
       "    </tr>\n",
       "    <tr>\n",
       "      <th>2</th>\n",
       "      <td>2021332</td>\n",
       "      <td>2002-02-13</td>\n",
       "      <td>00:53:24</td>\n",
       "      <td>00:54:54</td>\n",
       "      <td>00:57:00</td>\n",
       "      <td>216</td>\n",
       "      <td>15</td>\n",
       "      <td>11448.0</td>\n",
       "      <td>2</td>\n",
       "      <td>-310</td>\n",
       "      <td>375</td>\n",
       "      <td>487</td>\n",
       "      <td>9825</td>\n",
       "      <td>A1</td>\n",
       "      <td>P1</td>\n",
       "      <td>NaN</td>\n",
       "      <td>NaN</td>\n",
       "      <td>NaN</td>\n",
       "      <td>2002-02-13 00:53:24</td>\n",
       "      <td>2002</td>\n",
       "    </tr>\n",
       "    <tr>\n",
       "      <th>3</th>\n",
       "      <td>2021308</td>\n",
       "      <td>2002-02-13</td>\n",
       "      <td>04:22:52</td>\n",
       "      <td>04:23:50</td>\n",
       "      <td>04:26:56</td>\n",
       "      <td>244</td>\n",
       "      <td>20</td>\n",
       "      <td>17400.0</td>\n",
       "      <td>3</td>\n",
       "      <td>-277</td>\n",
       "      <td>378</td>\n",
       "      <td>469</td>\n",
       "      <td>9822</td>\n",
       "      <td>A1</td>\n",
       "      <td>P1</td>\n",
       "      <td>NaN</td>\n",
       "      <td>NaN</td>\n",
       "      <td>NaN</td>\n",
       "      <td>2002-02-13 04:22:52</td>\n",
       "      <td>2002</td>\n",
       "    </tr>\n",
       "    <tr>\n",
       "      <th>4</th>\n",
       "      <td>2021310</td>\n",
       "      <td>2002-02-13</td>\n",
       "      <td>07:03:52</td>\n",
       "      <td>07:05:14</td>\n",
       "      <td>07:07:48</td>\n",
       "      <td>236</td>\n",
       "      <td>336</td>\n",
       "      <td>313392.0</td>\n",
       "      <td>4</td>\n",
       "      <td>-272</td>\n",
       "      <td>390</td>\n",
       "      <td>476</td>\n",
       "      <td>9825</td>\n",
       "      <td>A1</td>\n",
       "      <td>GS</td>\n",
       "      <td>P1</td>\n",
       "      <td>PE</td>\n",
       "      <td>Q2</td>\n",
       "      <td>2002-02-13 07:03:52</td>\n",
       "      <td>2002</td>\n",
       "    </tr>\n",
       "  </tbody>\n",
       "</table>\n",
       "</div>"
      ],
      "text/plain": [
       "     flare     s_date    s_time      peak       end  duration  peak_count  \\\n",
       "0  2021213 2002-02-12  21:29:56  21:33:38  21:41:48       712         136   \n",
       "1  2021228 2002-02-12  21:44:08  21:45:06  21:48:56       288           7   \n",
       "2  2021332 2002-02-13  00:53:24  00:54:54  00:57:00       216          15   \n",
       "3  2021308 2002-02-13  04:22:52  04:23:50  04:26:56       244          20   \n",
       "4  2021310 2002-02-13  07:03:52  07:05:14  07:07:48       236         336   \n",
       "\n",
       "      total  energy    x    y  radial  region  f1  f2   f3   f4   f5  \\\n",
       "0  167304.0       3  592 -358     692       0  A1  P1  NaN  NaN  NaN   \n",
       "1    9504.0       2  604 -341     694    9811  A1  P1   PE   Q1  NaN   \n",
       "2   11448.0       2 -310  375     487    9825  A1  P1  NaN  NaN  NaN   \n",
       "3   17400.0       3 -277  378     469    9822  A1  P1  NaN  NaN  NaN   \n",
       "4  313392.0       4 -272  390     476    9825  A1  GS   P1   PE   Q2   \n",
       "\n",
       "          s_date_full  year  \n",
       "0 2002-02-12 21:29:56  2002  \n",
       "1 2002-02-12 21:44:08  2002  \n",
       "2 2002-02-13 00:53:24  2002  \n",
       "3 2002-02-13 04:22:52  2002  \n",
       "4 2002-02-13 07:03:52  2002  "
      ]
     },
     "execution_count": 14,
     "metadata": {},
     "output_type": "execute_result"
    }
   ],
   "source": [
    "df.head()"
   ]
  },
  {
   "cell_type": "code",
   "execution_count": 15,
   "metadata": {
    "execution": {
     "iopub.execute_input": "2022-01-02T20:27:18.857887Z",
     "iopub.status.busy": "2022-01-02T20:27:18.857575Z",
     "iopub.status.idle": "2022-01-02T20:27:19.381413Z",
     "shell.execute_reply": "2022-01-02T20:27:19.380549Z",
     "shell.execute_reply.started": "2022-01-02T20:27:18.857849Z"
    }
   },
   "outputs": [
    {
     "name": "stdout",
     "output_type": "stream",
     "text": [
      "<class 'pandas.core.frame.DataFrame'>\n",
      "RangeIndex: 116143 entries, 0 to 116142\n",
      "Data columns (total 11 columns):\n",
      " #   Column       Non-Null Count   Dtype         \n",
      "---  ------       --------------   -----         \n",
      " 0   peak         116143 non-null  object        \n",
      " 1   end          116143 non-null  object        \n",
      " 2   duration     116143 non-null  int64         \n",
      " 3   peak_count   116143 non-null  int64         \n",
      " 4   total        116143 non-null  float64       \n",
      " 5   energy       116143 non-null  int64         \n",
      " 6   x            116143 non-null  int64         \n",
      " 7   y            116143 non-null  int64         \n",
      " 8   radial       116143 non-null  int64         \n",
      " 9   region       116143 non-null  int64         \n",
      " 10  s_date_full  116143 non-null  datetime64[ns]\n",
      "dtypes: datetime64[ns](1), float64(1), int64(7), object(2)\n",
      "memory usage: 9.7+ MB\n"
     ]
    }
   ],
   "source": [
    "df_m = df\n",
    "df_m = df_m.drop(['flare', 'f1', 'f2', 'f3', 'f4', 'f5', 'year', 's_date', 's_time'], axis=1)\n",
    "df_m.info()"
   ]
  },
  {
   "cell_type": "markdown",
   "metadata": {
    "execution": {
     "iopub.execute_input": "2022-01-02T19:29:02.285173Z",
     "iopub.status.busy": "2022-01-02T19:29:02.284663Z",
     "iopub.status.idle": "2022-01-02T19:29:02.289548Z",
     "shell.execute_reply": "2022-01-02T19:29:02.288934Z",
     "shell.execute_reply.started": "2022-01-02T19:29:02.285115Z"
    }
   },
   "source": [
    "Count time between flares"
   ]
  },
  {
   "cell_type": "code",
   "execution_count": 27,
   "metadata": {
    "execution": {
     "iopub.execute_input": "2022-01-02T20:30:32.536842Z",
     "iopub.status.busy": "2022-01-02T20:30:32.536613Z",
     "iopub.status.idle": "2022-01-02T20:30:33.268128Z",
     "shell.execute_reply": "2022-01-02T20:30:33.267341Z",
     "shell.execute_reply.started": "2022-01-02T20:30:32.536819Z"
    }
   },
   "outputs": [],
   "source": [
    "t_between = df_m['s_date_full'].diff().tolist()\n",
    "t_between = t_between[1:-1] # drop first and last NaN"
   ]
  },
  {
   "cell_type": "markdown",
   "metadata": {},
   "source": [
    "Trying the first approach for prediciton, simple one"
   ]
  },
  {
   "cell_type": "code",
   "execution_count": 49,
   "metadata": {
    "execution": {
     "iopub.execute_input": "2022-01-02T20:45:58.940496Z",
     "iopub.status.busy": "2022-01-02T20:45:58.939925Z",
     "iopub.status.idle": "2022-01-02T20:45:58.946985Z",
     "shell.execute_reply": "2022-01-02T20:45:58.945636Z",
     "shell.execute_reply.started": "2022-01-02T20:45:58.940438Z"
    }
   },
   "outputs": [],
   "source": [
    "from sklearn.svm import SVC\n",
    "from sklearn.neural_network import MLPClassifier\n",
    "from sklearn.ensemble import RandomForestClassifier"
   ]
  },
  {
   "cell_type": "code",
   "execution_count": null,
   "metadata": {},
   "outputs": [],
   "source": [
    "today = pd.to_datetime('2017-09-09 00:00:00', format='%Y-%m-%d %H:%M:%S')\n",
    "# print(today, today.total_seconds())\n",
    "\n",
    "df_before = df[df['s_date_full'] <= today]\n",
    "df_after = df[df['s_date_full'] > today]\n",
    "dates_before = df_before['s_date_full'].tolist()\n",
    "dates_after = df_after['s_date_full'].tolist()\n",
    "diff_before = [(j).total_seconds() for j in t_between[:len(dates_before)-1]]  #recorded differences between past flares.\n",
    "diff_after =  [(j).total_seconds() for j in t_between[len(dates_before)-1:]]   #differences betw. future flares to be predicted"
   ]
  },
  {
   "cell_type": "code",
   "execution_count": null,
   "metadata": {},
   "outputs": [],
   "source": [
    "N_future = 1   #number of predictions into the future\n",
    "N = 10     #number of past flares used for prediction of next one\n",
    "\n",
    "X = []\n",
    "y = []\n",
    "for j in range(len(diff_before)-N):\n",
    "    X.append(diff_before[j:j+N])\n",
    "    y.append(diff_before[j+N])"
   ]
  },
  {
   "cell_type": "code",
   "execution_count": null,
   "metadata": {},
   "outputs": [],
   "source": [
    "lrn = RandomForestClassifier(1000)\n",
    "lrn.fit(X, y)"
   ]
  },
  {
   "cell_type": "code",
   "execution_count": null,
   "metadata": {},
   "outputs": [],
   "source": []
  }
 ],
 "metadata": {
  "kernelspec": {
   "display_name": "Python 3",
   "language": "python",
   "name": "python3"
  },
  "language_info": {
   "codemirror_mode": {
    "name": "ipython",
    "version": 3
   },
   "file_extension": ".py",
   "mimetype": "text/x-python",
   "name": "python",
   "nbconvert_exporter": "python",
   "pygments_lexer": "ipython3",
   "version": "3.9.1"
  },
  "toc-autonumbering": false,
  "toc-showmarkdowntxt": false,
  "toc-showtags": false
 },
 "nbformat": 4,
 "nbformat_minor": 4
}
