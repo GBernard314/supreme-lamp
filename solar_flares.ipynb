{
 "cells": [
  {
   "cell_type": "markdown",
   "metadata": {},
   "source": [
    "# Solar Flares Analysis\n",
    "_Bernard, Desoomer, Ramone_"
   ]
  },
  {
   "cell_type": "markdown",
   "metadata": {},
   "source": [
    "## Introduction"
   ]
  },
  {
   "cell_type": "markdown",
   "metadata": {},
   "source": [
    "### What is a solar flare ?\n",
    "\n",
    "A Solar flare is the rapid release of a large amount of energy stored in the solar atmosphere. During a flare, gas is heated to 10 to 20 million degrees Kelvin (K) and radiates soft X rays and longer-wavelength emission. Unable to penetrate the Earth's atmosphere, the X rays can only be detected from space. Instruments on Skylab, SMM, the Japanese/US Yohkoh mission and other spacecraft have recorded many flares in X rays over the last twenty years or so. Ground-based observatories have recorded the visible and radio outputs. These data form the basis of our current understanding of a solar flare. But there are many possible mechanisms for heating the gas, and observations to date have not been able to differentiate between them.\n",
    "\n",
    "HESSI's new approach\n",
    "\n",
    "Researchers believe that much of the energy released during a flare is used to accelerate, to very high energies, electrons (emitting primarily X-rays) and protons and other ions (emitting primarily gamma rays). The new approach of the HESSI mission is to combine, for the first time, high-resolution imaging in hard X-rays and gamma rays with high-resolution spectroscopy, so that a detailed energy spectrum can be obtained at each point of the image.\n",
    "\n",
    "This new approach will enable researchers to find out where these particles are accelerated and to what energies. Such information will advance understanding of the fundamental high-energy processes at the core of the solar flare problem.\n",
    "https://hesperia.gsfc.nasa.gov/hessi/objectives.htm"
   ]
  },
  {
   "cell_type": "markdown",
   "metadata": {},
   "source": [
    "### Context\n",
    "Reuven Ramaty High Energy Solar Spectroscopic Imager (RHESSI, originally High Energy Solar Spectroscopic Imager or HESSI) is a NASA solar flare observatory. It is the sixth mission in the Small Explorer program, selected in October 1997 and launched on 5 February 2002. Its primary mission is to explore the physics of particle acceleration and energy release in solar flares.\n",
    "HESSI was renamed to RHESSI on 29 March 2002 in honor of Reuven Ramaty, a pioneer in the area of high energy solar physics. RHESSI is the first space mission named after a NASA scientist. RHESSI was built by Spectrum Astro for Goddard Space Flight Center and is operated by the Space Sciences Laboratory in Berkeley, California. The principal investigator from 2002 to 2012 was Robert Lin, who was succeeded by Säm Krucker.\n",
    "\n",
    "*useful links:*\n",
    "https://en.wikipedia.org/wiki/Reuven_Ramaty_High_Energy_Solar_Spectroscopic_Imager\n",
    "https://hesperia.gsfc.nasa.gov/hessi/objectives.htm\n",
    "\n",
    "Content\n",
    "Ramaty High Energy Solar Spectroscopic Imager (RHESSI)\n",
    "\n",
    "Notes:\n",
    "Note that only events with non-zero position and energy range not equal to 3-6 keV are confirmed as solar sources.\n",
    "Events which have no position and show up mostly in the front detectors, but were not able to be imaged\n",
    "are flagged as \"PS\"."
   ]
  },
  {
   "cell_type": "markdown",
   "metadata": {},
   "source": [
    "Events which do not have valid position are only confirmed to be non-solar if the NS flag is set.\n",
    "- `Peak Rate`: peak $counts/second$ in energy range $6-12 keV$, averaged over active collimators, including background.\n",
    "- `Total Counts`: counts in energy range $6-12 keV$ integrated over duration of flare summed over all subcollimators, including background.\n",
    "- `Energy`: the highest energy band in which the flare was observed. Electron $KeV$ (kilo electron volt) https://en.wikipedia.org/wiki/Electronvolt\n",
    "- `Radial Distance`: distance from Sun center\n",
    "- `Quality Codes`: $Q_n$, where $n$ is the total number of data gap, SAA, particle, eclipse or decimation flags set for event. in ranges from $0$ to $11$. Use care when analyzing the data when the quality is not zero.\n",
    "- `Active_Region`: A number for the closest active region, if available\n",
    "- `radial_offset`: the offset of the flare position from the spin axis of the spacecraft in $arcsec$. This is used in spectroscopy.\n",
    "- `peak_c/s`: peak count rate in corrected counts.\n",
    "\n",
    "Flare Flag Codes:\n",
    "- `a0` - In attenuator state 0 (None) sometime during flare\n",
    "- `a1` - In attenuator state 1 (Thin) sometime during flare\n",
    "- `a2` - In attenuator state 2 (Thick) sometime during flare\n",
    "- `a3` - In attenuator state 3 (Both) sometime during flare\n",
    "- `An` - Attenuator state (0=None, 1=Thin, 2=Thick, 3=Both) at peak of flare\n",
    "- `DF` - Front segment counts were decimated sometime during flare\n",
    "- `DR` - Rear segment counts were decimated sometime during flare\n",
    "- `ED` - Spacecraft eclipse (night) sometime during flare\n",
    "- `EE` - Flare ended in spacecraft eclipse (night)\n",
    "- `ES` - Flare started in spacecraft eclipse (night)\n",
    "- `FE` - Flare ongoing at end of file\n",
    "- `FR` - In Fast Rate Mode\n",
    "- `FS` - Flare ongoing at start of file\n",
    "- `GD` - Data gap during flare\n",
    "- `GE` - Flare ended in data gap\n",
    "- `GS` - Flare started in data gap\n",
    "- `MR` - Spacecraft in high-latitude zone during flare\n",
    "- `NS` - Non-solar event\n",
    "- `PE` - Particle event: Particles are present\n",
    "- `PS` - Possible Solar Flare; in front detectors, but no position\n",
    "- `Pn` - Position Quality: $P_0$ = Position is NOT valid, $P_1$ = Position is valid\n",
    "- `Qn` - Data Quality: $Q_0$ = Highest Quality, $Q_11$ = Lowest Quality\n",
    "- `SD` - Spacecraft was in SAA sometime during flare\n",
    "- `SE` - Flare ended when spacecraft was in SAA\n",
    "- `SS` - Flare started when spacecraft was in SAA\n"
   ]
  },
  {
   "cell_type": "markdown",
   "metadata": {},
   "source": [
    "## Can we guess anything about solar flares ?\n",
    "The goal here is to predict something even the meaningless thing such as the sector of the sun, the size, the intensity or even better, the date"
   ]
  },
  {
   "cell_type": "markdown",
   "metadata": {},
   "source": [
    "### Goal\n",
    "The goal here is to predict something even the meaningless thing such as the sector of the sun, the size, the intensity or even better, the date"
   ]
  },
  {
   "cell_type": "code",
   "execution_count": 1,
   "metadata": {
    "execution": {
     "iopub.execute_input": "2022-01-02T21:43:43.872666Z",
     "iopub.status.busy": "2022-01-02T21:43:43.872326Z",
     "iopub.status.idle": "2022-01-02T21:43:45.335213Z",
     "shell.execute_reply": "2022-01-02T21:43:45.333949Z",
     "shell.execute_reply.started": "2022-01-02T21:43:43.872576Z"
    },
    "scrolled": true
   },
   "outputs": [
    {
     "name": "stdout",
     "output_type": "stream",
     "text": [
      "Requirement already satisfied: pandas in /usr/lib/python3.9/site-packages (1.3.4)\n",
      "Requirement already satisfied: sklearn in /usr/lib/python3.9/site-packages (0.0)\n",
      "Requirement already satisfied: seaborn in /usr/lib/python3.9/site-packages (0.11.2)\n",
      "Requirement already satisfied: pytz>=2017.3 in /usr/lib/python3.9/site-packages (from pandas) (2020.5)\n",
      "Requirement already satisfied: numpy>=1.17.3 in /usr/lib/python3.9/site-packages (from pandas) (1.21.4)\n",
      "Requirement already satisfied: python-dateutil>=2.7.3 in /usr/lib/python3.9/site-packages (from pandas) (2.8.1)\n",
      "Requirement already satisfied: numpy>=1.17.3 in /usr/lib/python3.9/site-packages (from pandas) (1.21.4)\n",
      "Requirement already satisfied: scipy>=1.0 in /usr/lib/python3.9/site-packages (from seaborn) (1.7.3)\n",
      "Requirement already satisfied: pandas in /usr/lib/python3.9/site-packages (1.3.4)\n",
      "Requirement already satisfied: matplotlib>=2.2 in /usr/lib/python3.9/site-packages (from seaborn) (3.5.1)\n",
      "Requirement already satisfied: scikit-learn in /usr/lib/python3.9/site-packages (from sklearn) (1.0.1)\n",
      "Requirement already satisfied: packaging>=20.0 in /usr/lib/python3.9/site-packages (from matplotlib>=2.2->seaborn) (20.8)\n",
      "Requirement already satisfied: numpy>=1.17.3 in /usr/lib/python3.9/site-packages (from pandas) (1.21.4)\n",
      "Requirement already satisfied: pillow>=6.2.0 in /usr/lib/python3.9/site-packages (from matplotlib>=2.2->seaborn) (8.4.0)\n",
      "Requirement already satisfied: python-dateutil>=2.7.3 in /usr/lib/python3.9/site-packages (from pandas) (2.8.1)\n",
      "Requirement already satisfied: pyparsing>=2.2.1 in /usr/lib/python3.9/site-packages (from matplotlib>=2.2->seaborn) (2.4.7)\n",
      "Requirement already satisfied: fonttools>=4.22.0 in /usr/lib/python3.9/site-packages (from matplotlib>=2.2->seaborn) (4.28.3)\n",
      "Requirement already satisfied: kiwisolver>=1.0.1 in /usr/lib/python3.9/site-packages (from matplotlib>=2.2->seaborn) (1.3.2)\n",
      "Requirement already satisfied: cycler>=0.10 in /usr/lib/python3.9/site-packages (from matplotlib>=2.2->seaborn) (0.11.0)\n",
      "Requirement already satisfied: pyparsing>=2.2.1 in /usr/lib/python3.9/site-packages (from matplotlib>=2.2->seaborn) (2.4.7)\n",
      "Requirement already satisfied: six>=1.5 in /usr/lib/python3.9/site-packages (from python-dateutil>=2.7.3->pandas) (1.15.0)\n",
      "Requirement already satisfied: joblib>=0.11 in /usr/lib/python3.9/site-packages (from scikit-learn->sklearn) (1.1.0)\n",
      "Requirement already satisfied: numpy>=1.17.3 in /usr/lib/python3.9/site-packages (from pandas) (1.21.4)\n",
      "Requirement already satisfied: threadpoolctl>=2.0.0 in /usr/lib/python3.9/site-packages (from scikit-learn->sklearn) (3.0.0)\n",
      "Requirement already satisfied: scipy>=1.0 in /usr/lib/python3.9/site-packages (from seaborn) (1.7.3)\n",
      "Requirement already satisfied: numpy>=1.17.3 in /usr/lib/python3.9/site-packages (from pandas) (1.21.4)\n"
     ]
    }
   ],
   "source": [
    "!pip install pandas sklearn seaborn"
   ]
  },
  {
   "cell_type": "markdown",
   "metadata": {},
   "source": [
    "## 3. Methodology "
   ]
  },
  {
   "cell_type": "markdown",
   "metadata": {},
   "source": [
    "### Loading the dataset"
   ]
  },
  {
   "cell_type": "code",
   "execution_count": 2,
   "metadata": {
    "execution": {
     "iopub.execute_input": "2022-01-02T21:43:45.338038Z",
     "iopub.status.busy": "2022-01-02T21:43:45.337868Z",
     "iopub.status.idle": "2022-01-02T21:43:45.999095Z",
     "shell.execute_reply": "2022-01-02T21:43:45.998144Z",
     "shell.execute_reply.started": "2022-01-02T21:43:45.338017Z"
    }
   },
   "outputs": [
    {
     "name": "stdout",
     "output_type": "stream",
     "text": [
      "<class 'pandas.core.frame.DataFrame'>\n",
      "RangeIndex: 116143 entries, 0 to 116142\n",
      "Data columns (total 18 columns):\n",
      " #   Column            Non-Null Count   Dtype  \n",
      "---  ------            --------------   -----  \n",
      " 0   flare             116143 non-null  int64  \n",
      " 1   start.date        116143 non-null  object \n",
      " 2   start.time        116143 non-null  object \n",
      " 3   peak              116143 non-null  object \n",
      " 4   end               116143 non-null  object \n",
      " 5   duration.s        116143 non-null  int64  \n",
      " 6   peak.c/s          116143 non-null  int64  \n",
      " 7   total.counts      116143 non-null  float64\n",
      " 8   energy.kev        116143 non-null  object \n",
      " 9   x.pos.asec        116143 non-null  int64  \n",
      " 10  y.pos.asec        116143 non-null  int64  \n",
      " 11  radial            116143 non-null  int64  \n",
      " 12  active.region.ar  116143 non-null  int64  \n",
      " 13  flag.1            116143 non-null  object \n",
      " 14  flag.2            116143 non-null  object \n",
      " 15  flag.3            96236 non-null   object \n",
      " 16  flag.4            95941 non-null   object \n",
      " 17  flag.5            54963 non-null   object \n",
      "dtypes: float64(1), int64(7), object(10)\n",
      "memory usage: 15.9+ MB\n"
     ]
    }
   ],
   "source": [
    "import pandas as pd\n",
    "\n",
    "df = pd.read_csv('solar_flares_until_2018.csv')\n",
    "df.info()\n"
   ]
  },
  {
   "cell_type": "markdown",
   "metadata": {},
   "source": [
    "We can see that there is $115k+$ items, it is also pretty clean, workable."
   ]
  },
  {
   "cell_type": "markdown",
   "metadata": {
    "execution": {
     "iopub.execute_input": "2022-01-02T21:28:39.870128Z",
     "iopub.status.busy": "2022-01-02T21:28:39.869718Z",
     "iopub.status.idle": "2022-01-02T21:28:39.873438Z",
     "shell.execute_reply": "2022-01-02T21:28:39.872714Z",
     "shell.execute_reply.started": "2022-01-02T21:28:39.870080Z"
    }
   },
   "source": [
    "### Dropping irrelevant column"
   ]
  },
  {
   "cell_type": "code",
   "execution_count": 3,
   "metadata": {
    "execution": {
     "iopub.execute_input": "2022-01-02T21:43:46.001673Z",
     "iopub.status.busy": "2022-01-02T21:43:46.001482Z",
     "iopub.status.idle": "2022-01-02T21:43:46.018963Z",
     "shell.execute_reply": "2022-01-02T21:43:46.018044Z",
     "shell.execute_reply.started": "2022-01-02T21:43:46.001650Z"
    }
   },
   "outputs": [],
   "source": [
    "df = df.drop(['flag.1', 'flag.2', 'flag.3', 'flag.4', 'flag.5'], axis=1)"
   ]
  },
  {
   "cell_type": "markdown",
   "metadata": {},
   "source": [
    "### Reworking the data"
   ]
  },
  {
   "cell_type": "markdown",
   "metadata": {
    "execution": {
     "iopub.execute_input": "2022-01-02T21:29:16.070233Z",
     "iopub.status.busy": "2022-01-02T21:29:16.069644Z",
     "iopub.status.idle": "2022-01-02T21:29:16.074653Z",
     "shell.execute_reply": "2022-01-02T21:29:16.073944Z",
     "shell.execute_reply.started": "2022-01-02T21:29:16.070156Z"
    }
   },
   "source": [
    "Renaming the columns"
   ]
  },
  {
   "cell_type": "code",
   "execution_count": 4,
   "metadata": {
    "execution": {
     "iopub.execute_input": "2022-01-02T21:43:46.021093Z",
     "iopub.status.busy": "2022-01-02T21:43:46.020738Z",
     "iopub.status.idle": "2022-01-02T21:43:46.385272Z",
     "shell.execute_reply": "2022-01-02T21:43:46.384347Z",
     "shell.execute_reply.started": "2022-01-02T21:43:46.021019Z"
    }
   },
   "outputs": [],
   "source": [
    "df = df.rename(columns={\"start.date\": \"s_date\", \n",
    "                        \"start.time\": \"s_time\",\n",
    "                        \"duration.s\": \"duration\",\n",
    "                        \"peak.c/s\": \"peak_count\",\n",
    "                        \"total.counts\": \"total\",\n",
    "                        \"energy.kev\": \"energy\",\n",
    "                        \"x.pos.asec\": \"x\",\n",
    "                        \"y.pos.asec\": \"y\",\n",
    "                        \"active.region.ar\": \"region\"})"
   ]
  },
  {
   "cell_type": "code",
   "execution_count": 5,
   "metadata": {
    "execution": {
     "iopub.execute_input": "2022-01-02T21:43:46.387789Z",
     "iopub.status.busy": "2022-01-02T21:43:46.387372Z",
     "iopub.status.idle": "2022-01-02T21:43:47.246833Z",
     "shell.execute_reply": "2022-01-02T21:43:47.246031Z",
     "shell.execute_reply.started": "2022-01-02T21:43:46.387737Z"
    }
   },
   "outputs": [
    {
     "data": {
      "text/html": [
       "<div>\n",
       "<style scoped>\n",
       "    .dataframe tbody tr th:only-of-type {\n",
       "        vertical-align: middle;\n",
       "    }\n",
       "\n",
       "    .dataframe tbody tr th {\n",
       "        vertical-align: top;\n",
       "    }\n",
       "\n",
       "    .dataframe thead th {\n",
       "        text-align: right;\n",
       "    }\n",
       "</style>\n",
       "<table border=\"1\" class=\"dataframe\">\n",
       "  <thead>\n",
       "    <tr style=\"text-align: right;\">\n",
       "      <th></th>\n",
       "      <th>flare</th>\n",
       "      <th>s_date</th>\n",
       "      <th>s_time</th>\n",
       "      <th>peak</th>\n",
       "      <th>end</th>\n",
       "      <th>duration</th>\n",
       "      <th>peak_count</th>\n",
       "      <th>total</th>\n",
       "      <th>energy</th>\n",
       "      <th>x</th>\n",
       "      <th>y</th>\n",
       "      <th>radial</th>\n",
       "      <th>region</th>\n",
       "      <th>s_date_full</th>\n",
       "      <th>s_date_full_ts</th>\n",
       "      <th>peak_ts</th>\n",
       "      <th>end_ts</th>\n",
       "    </tr>\n",
       "  </thead>\n",
       "  <tbody>\n",
       "    <tr>\n",
       "      <th>0</th>\n",
       "      <td>2021213</td>\n",
       "      <td>2002-02-12</td>\n",
       "      <td>21:29:56</td>\n",
       "      <td>2002-02-12 21:33:38</td>\n",
       "      <td>2002-02-12 21:41:48</td>\n",
       "      <td>712</td>\n",
       "      <td>136</td>\n",
       "      <td>167304.0</td>\n",
       "      <td>12-25</td>\n",
       "      <td>592</td>\n",
       "      <td>-358</td>\n",
       "      <td>692</td>\n",
       "      <td>0</td>\n",
       "      <td>2002-02-12 21:29:56</td>\n",
       "      <td>1013549396</td>\n",
       "      <td>1013549618</td>\n",
       "      <td>1013550108</td>\n",
       "    </tr>\n",
       "    <tr>\n",
       "      <th>1</th>\n",
       "      <td>2021228</td>\n",
       "      <td>2002-02-12</td>\n",
       "      <td>21:44:08</td>\n",
       "      <td>2002-02-12 21:45:06</td>\n",
       "      <td>2002-02-12 21:48:56</td>\n",
       "      <td>288</td>\n",
       "      <td>7</td>\n",
       "      <td>9504.0</td>\n",
       "      <td>6-12</td>\n",
       "      <td>604</td>\n",
       "      <td>-341</td>\n",
       "      <td>694</td>\n",
       "      <td>9811</td>\n",
       "      <td>2002-02-12 21:44:08</td>\n",
       "      <td>1013550248</td>\n",
       "      <td>1013550306</td>\n",
       "      <td>1013550536</td>\n",
       "    </tr>\n",
       "    <tr>\n",
       "      <th>2</th>\n",
       "      <td>2021332</td>\n",
       "      <td>2002-02-13</td>\n",
       "      <td>00:53:24</td>\n",
       "      <td>2002-02-13 00:54:54</td>\n",
       "      <td>2002-02-13 00:57:00</td>\n",
       "      <td>216</td>\n",
       "      <td>15</td>\n",
       "      <td>11448.0</td>\n",
       "      <td>6-12</td>\n",
       "      <td>-310</td>\n",
       "      <td>375</td>\n",
       "      <td>487</td>\n",
       "      <td>9825</td>\n",
       "      <td>2002-02-13 00:53:24</td>\n",
       "      <td>1013561604</td>\n",
       "      <td>1013561694</td>\n",
       "      <td>1013561820</td>\n",
       "    </tr>\n",
       "    <tr>\n",
       "      <th>3</th>\n",
       "      <td>2021308</td>\n",
       "      <td>2002-02-13</td>\n",
       "      <td>04:22:52</td>\n",
       "      <td>2002-02-13 04:23:50</td>\n",
       "      <td>2002-02-13 04:26:56</td>\n",
       "      <td>244</td>\n",
       "      <td>20</td>\n",
       "      <td>17400.0</td>\n",
       "      <td>12-25</td>\n",
       "      <td>-277</td>\n",
       "      <td>378</td>\n",
       "      <td>469</td>\n",
       "      <td>9822</td>\n",
       "      <td>2002-02-13 04:22:52</td>\n",
       "      <td>1013574172</td>\n",
       "      <td>1013574230</td>\n",
       "      <td>1013574416</td>\n",
       "    </tr>\n",
       "    <tr>\n",
       "      <th>4</th>\n",
       "      <td>2021310</td>\n",
       "      <td>2002-02-13</td>\n",
       "      <td>07:03:52</td>\n",
       "      <td>2002-02-13 07:05:14</td>\n",
       "      <td>2002-02-13 07:07:48</td>\n",
       "      <td>236</td>\n",
       "      <td>336</td>\n",
       "      <td>313392.0</td>\n",
       "      <td>25-50</td>\n",
       "      <td>-272</td>\n",
       "      <td>390</td>\n",
       "      <td>476</td>\n",
       "      <td>9825</td>\n",
       "      <td>2002-02-13 07:03:52</td>\n",
       "      <td>1013583832</td>\n",
       "      <td>1013583914</td>\n",
       "      <td>1013584068</td>\n",
       "    </tr>\n",
       "  </tbody>\n",
       "</table>\n",
       "</div>"
      ],
      "text/plain": [
       "     flare     s_date    s_time                peak                 end  \\\n",
       "0  2021213 2002-02-12  21:29:56 2002-02-12 21:33:38 2002-02-12 21:41:48   \n",
       "1  2021228 2002-02-12  21:44:08 2002-02-12 21:45:06 2002-02-12 21:48:56   \n",
       "2  2021332 2002-02-13  00:53:24 2002-02-13 00:54:54 2002-02-13 00:57:00   \n",
       "3  2021308 2002-02-13  04:22:52 2002-02-13 04:23:50 2002-02-13 04:26:56   \n",
       "4  2021310 2002-02-13  07:03:52 2002-02-13 07:05:14 2002-02-13 07:07:48   \n",
       "\n",
       "   duration  peak_count     total energy    x    y  radial  region  \\\n",
       "0       712         136  167304.0  12-25  592 -358     692       0   \n",
       "1       288           7    9504.0   6-12  604 -341     694    9811   \n",
       "2       216          15   11448.0   6-12 -310  375     487    9825   \n",
       "3       244          20   17400.0  12-25 -277  378     469    9822   \n",
       "4       236         336  313392.0  25-50 -272  390     476    9825   \n",
       "\n",
       "          s_date_full  s_date_full_ts     peak_ts      end_ts  \n",
       "0 2002-02-12 21:29:56      1013549396  1013549618  1013550108  \n",
       "1 2002-02-12 21:44:08      1013550248  1013550306  1013550536  \n",
       "2 2002-02-13 00:53:24      1013561604  1013561694  1013561820  \n",
       "3 2002-02-13 04:22:52      1013574172  1013574230  1013574416  \n",
       "4 2002-02-13 07:03:52      1013583832  1013583914  1013584068  "
      ]
     },
     "execution_count": 5,
     "metadata": {},
     "output_type": "execute_result"
    }
   ],
   "source": [
    "# Formating s_date to Datetime object\n",
    "import numpy as np\n",
    "\n",
    "df['s_date_full'] = df[\"s_date\"] + ' ' + df[\"s_time\"]\n",
    "df['s_date_full'] = pd.to_datetime(df['s_date_full'], format='%Y-%m-%d %H:%M:%S')\n",
    "df['s_date_full_ts'] = df['s_date_full'].values.astype(np.int64) // 10 ** 9\n",
    "\n",
    "df['peak'] = df['s_date'] + ' ' + df['peak']\n",
    "df['peak'] = pd.to_datetime(df['peak'], format='%Y-%m-%d %H:%M:%S')\n",
    "df['peak_ts'] = df['peak'].values.astype(np.int64) // 10 ** 9\n",
    "\n",
    "df['end'] = df['s_date'] + ' ' + df['end']\n",
    "df['end'] = pd.to_datetime(df['end'], format='%Y-%m-%d %H:%M:%S')\n",
    "df['end_ts'] = df['end'].values.astype(np.int64) // 10 ** 9\n",
    "\n",
    "# df['s_date_full'] = df['s_date_full'].apply(lambda x: x.value)\n",
    "df['s_date'] = pd.to_datetime(df['s_date'], format='%Y-%m-%d')\n",
    "df.head()"
   ]
  },
  {
   "cell_type": "code",
   "execution_count": 6,
   "metadata": {
    "execution": {
     "iopub.execute_input": "2022-01-02T21:43:47.248640Z",
     "iopub.status.busy": "2022-01-02T21:43:47.248318Z",
     "iopub.status.idle": "2022-01-02T21:43:47.486655Z",
     "shell.execute_reply": "2022-01-02T21:43:47.485832Z",
     "shell.execute_reply.started": "2022-01-02T21:43:47.248598Z"
    }
   },
   "outputs": [
    {
     "data": {
      "text/plain": [
       "array(['12-25', '6-12', '25-50', '3-6', '50-100', '100-300', '300-800',\n",
       "       '7000-20000', '800-7000'], dtype=object)"
      ]
     },
     "execution_count": 6,
     "metadata": {},
     "output_type": "execute_result"
    }
   ],
   "source": [
    "df['energy'].unique()"
   ]
  },
  {
   "cell_type": "markdown",
   "metadata": {},
   "source": [
    "We can see that `energy` is a range, we can give it a corresponding level"
   ]
  },
  {
   "cell_type": "code",
   "execution_count": 7,
   "metadata": {
    "execution": {
     "iopub.execute_input": "2022-01-02T21:43:47.488976Z",
     "iopub.status.busy": "2022-01-02T21:43:47.488660Z",
     "iopub.status.idle": "2022-01-02T21:43:48.059328Z",
     "shell.execute_reply": "2022-01-02T21:43:48.058115Z",
     "shell.execute_reply.started": "2022-01-02T21:43:47.488937Z"
    }
   },
   "outputs": [
    {
     "data": {
      "text/html": [
       "<div>\n",
       "<style scoped>\n",
       "    .dataframe tbody tr th:only-of-type {\n",
       "        vertical-align: middle;\n",
       "    }\n",
       "\n",
       "    .dataframe tbody tr th {\n",
       "        vertical-align: top;\n",
       "    }\n",
       "\n",
       "    .dataframe thead th {\n",
       "        text-align: right;\n",
       "    }\n",
       "</style>\n",
       "<table border=\"1\" class=\"dataframe\">\n",
       "  <thead>\n",
       "    <tr style=\"text-align: right;\">\n",
       "      <th></th>\n",
       "      <th>flare</th>\n",
       "      <th>s_date</th>\n",
       "      <th>s_time</th>\n",
       "      <th>peak</th>\n",
       "      <th>end</th>\n",
       "      <th>duration</th>\n",
       "      <th>peak_count</th>\n",
       "      <th>total</th>\n",
       "      <th>energy</th>\n",
       "      <th>x</th>\n",
       "      <th>y</th>\n",
       "      <th>radial</th>\n",
       "      <th>region</th>\n",
       "      <th>s_date_full</th>\n",
       "      <th>s_date_full_ts</th>\n",
       "      <th>peak_ts</th>\n",
       "      <th>end_ts</th>\n",
       "    </tr>\n",
       "  </thead>\n",
       "  <tbody>\n",
       "    <tr>\n",
       "      <th>0</th>\n",
       "      <td>2021213</td>\n",
       "      <td>2002-02-12</td>\n",
       "      <td>21:29:56</td>\n",
       "      <td>2002-02-12 21:33:38</td>\n",
       "      <td>2002-02-12 21:41:48</td>\n",
       "      <td>712</td>\n",
       "      <td>136</td>\n",
       "      <td>167304.0</td>\n",
       "      <td>3</td>\n",
       "      <td>592</td>\n",
       "      <td>-358</td>\n",
       "      <td>692</td>\n",
       "      <td>0</td>\n",
       "      <td>2002-02-12 21:29:56</td>\n",
       "      <td>1013549396</td>\n",
       "      <td>1013549618</td>\n",
       "      <td>1013550108</td>\n",
       "    </tr>\n",
       "    <tr>\n",
       "      <th>1</th>\n",
       "      <td>2021228</td>\n",
       "      <td>2002-02-12</td>\n",
       "      <td>21:44:08</td>\n",
       "      <td>2002-02-12 21:45:06</td>\n",
       "      <td>2002-02-12 21:48:56</td>\n",
       "      <td>288</td>\n",
       "      <td>7</td>\n",
       "      <td>9504.0</td>\n",
       "      <td>2</td>\n",
       "      <td>604</td>\n",
       "      <td>-341</td>\n",
       "      <td>694</td>\n",
       "      <td>9811</td>\n",
       "      <td>2002-02-12 21:44:08</td>\n",
       "      <td>1013550248</td>\n",
       "      <td>1013550306</td>\n",
       "      <td>1013550536</td>\n",
       "    </tr>\n",
       "    <tr>\n",
       "      <th>2</th>\n",
       "      <td>2021332</td>\n",
       "      <td>2002-02-13</td>\n",
       "      <td>00:53:24</td>\n",
       "      <td>2002-02-13 00:54:54</td>\n",
       "      <td>2002-02-13 00:57:00</td>\n",
       "      <td>216</td>\n",
       "      <td>15</td>\n",
       "      <td>11448.0</td>\n",
       "      <td>2</td>\n",
       "      <td>-310</td>\n",
       "      <td>375</td>\n",
       "      <td>487</td>\n",
       "      <td>9825</td>\n",
       "      <td>2002-02-13 00:53:24</td>\n",
       "      <td>1013561604</td>\n",
       "      <td>1013561694</td>\n",
       "      <td>1013561820</td>\n",
       "    </tr>\n",
       "    <tr>\n",
       "      <th>3</th>\n",
       "      <td>2021308</td>\n",
       "      <td>2002-02-13</td>\n",
       "      <td>04:22:52</td>\n",
       "      <td>2002-02-13 04:23:50</td>\n",
       "      <td>2002-02-13 04:26:56</td>\n",
       "      <td>244</td>\n",
       "      <td>20</td>\n",
       "      <td>17400.0</td>\n",
       "      <td>3</td>\n",
       "      <td>-277</td>\n",
       "      <td>378</td>\n",
       "      <td>469</td>\n",
       "      <td>9822</td>\n",
       "      <td>2002-02-13 04:22:52</td>\n",
       "      <td>1013574172</td>\n",
       "      <td>1013574230</td>\n",
       "      <td>1013574416</td>\n",
       "    </tr>\n",
       "    <tr>\n",
       "      <th>4</th>\n",
       "      <td>2021310</td>\n",
       "      <td>2002-02-13</td>\n",
       "      <td>07:03:52</td>\n",
       "      <td>2002-02-13 07:05:14</td>\n",
       "      <td>2002-02-13 07:07:48</td>\n",
       "      <td>236</td>\n",
       "      <td>336</td>\n",
       "      <td>313392.0</td>\n",
       "      <td>4</td>\n",
       "      <td>-272</td>\n",
       "      <td>390</td>\n",
       "      <td>476</td>\n",
       "      <td>9825</td>\n",
       "      <td>2002-02-13 07:03:52</td>\n",
       "      <td>1013583832</td>\n",
       "      <td>1013583914</td>\n",
       "      <td>1013584068</td>\n",
       "    </tr>\n",
       "  </tbody>\n",
       "</table>\n",
       "</div>"
      ],
      "text/plain": [
       "     flare     s_date    s_time                peak                 end  \\\n",
       "0  2021213 2002-02-12  21:29:56 2002-02-12 21:33:38 2002-02-12 21:41:48   \n",
       "1  2021228 2002-02-12  21:44:08 2002-02-12 21:45:06 2002-02-12 21:48:56   \n",
       "2  2021332 2002-02-13  00:53:24 2002-02-13 00:54:54 2002-02-13 00:57:00   \n",
       "3  2021308 2002-02-13  04:22:52 2002-02-13 04:23:50 2002-02-13 04:26:56   \n",
       "4  2021310 2002-02-13  07:03:52 2002-02-13 07:05:14 2002-02-13 07:07:48   \n",
       "\n",
       "   duration  peak_count     total  energy    x    y  radial  region  \\\n",
       "0       712         136  167304.0       3  592 -358     692       0   \n",
       "1       288           7    9504.0       2  604 -341     694    9811   \n",
       "2       216          15   11448.0       2 -310  375     487    9825   \n",
       "3       244          20   17400.0       3 -277  378     469    9822   \n",
       "4       236         336  313392.0       4 -272  390     476    9825   \n",
       "\n",
       "          s_date_full  s_date_full_ts     peak_ts      end_ts  \n",
       "0 2002-02-12 21:29:56      1013549396  1013549618  1013550108  \n",
       "1 2002-02-12 21:44:08      1013550248  1013550306  1013550536  \n",
       "2 2002-02-13 00:53:24      1013561604  1013561694  1013561820  \n",
       "3 2002-02-13 04:22:52      1013574172  1013574230  1013574416  \n",
       "4 2002-02-13 07:03:52      1013583832  1013583914  1013584068  "
      ]
     },
     "execution_count": 7,
     "metadata": {},
     "output_type": "execute_result"
    }
   ],
   "source": [
    "df.loc[df['energy'] == \"3-6\", 'energy'] = 1\n",
    "df.loc[df['energy'] == \"6-12\", 'energy'] = 2\n",
    "df.loc[df['energy'] == \"12-25\", 'energy'] = 3\n",
    "df.loc[df['energy'] == \"25-50\", 'energy'] = 4\n",
    "df.loc[df['energy'] == \"50-100\", 'energy'] = 5\n",
    "df.loc[df['energy'] == \"100-300\", 'energy'] = 6\n",
    "df.loc[df['energy'] == \"300-800\", 'energy'] = 7\n",
    "df.loc[df['energy'] == \"800-7000\", 'energy'] = 8\n",
    "df.loc[df['energy'] == \"7000-20000\", 'energy'] = 9\n",
    "\n",
    "df['energy'] = df['energy'].apply(lambda x: int(x)) # casting to int\n",
    "\n",
    "df.head()"
   ]
  },
  {
   "cell_type": "markdown",
   "metadata": {},
   "source": [
    "`energy` is now a level :\n",
    "- 1 : $]3-6]\\ KeV$\n",
    "- 2 : $]6-12]\\ KeV$\n",
    "- 3 : $]12-25]\\ KeV$\n",
    "- 4 : $]25-50]\\ KeV$\n",
    "- 5 : $]50-100]\\ KeV$\n",
    "- 6 : $]100-300]\\ KeV$\n",
    "- 7 : $]300-800]\\ KeV$\n",
    "- 8 : $]800-7000]\\ KeV$\n",
    "- 9 : $]7000-20000]\\ KeV$\n",
    "- 0 : everything else"
   ]
  },
  {
   "cell_type": "markdown",
   "metadata": {},
   "source": [
    "Number of flare by ```energy level```"
   ]
  },
  {
   "cell_type": "code",
   "execution_count": 8,
   "metadata": {
    "execution": {
     "iopub.execute_input": "2022-01-02T21:43:48.063226Z",
     "iopub.status.busy": "2022-01-02T21:43:48.063019Z",
     "iopub.status.idle": "2022-01-02T21:43:49.821370Z",
     "shell.execute_reply": "2022-01-02T21:43:49.820586Z",
     "shell.execute_reply.started": "2022-01-02T21:43:48.063203Z"
    }
   },
   "outputs": [
    {
     "data": {
      "text/plain": [
       "<AxesSubplot:xlabel='energy', ylabel='Count'>"
      ]
     },
     "execution_count": 8,
     "metadata": {},
     "output_type": "execute_result"
    },
    {
     "data": {
      "image/png": "[encoded data removed]",
      "text/plain": [
       "<Figure size 1080x576 with 1 Axes>"
      ]
     },
     "metadata": {},
     "output_type": "display_data"
    }
   ],
   "source": [
    "import seaborn as sns\n",
    "sns.set(rc = {'figure.figsize':(15,8)})\n",
    "\n",
    "\n",
    "sns.histplot(df['energy'])\n"
   ]
  },
  {
   "cell_type": "markdown",
   "metadata": {},
   "source": [
    "It is interesting to note that energy of level $1$ is not the most common (perhaps because they are not very noticeable ?)\n",
    "But we can clearly see that **high energy** flares are also, **less common**"
   ]
  },
  {
   "cell_type": "code",
   "execution_count": 9,
   "metadata": {
    "execution": {
     "iopub.execute_input": "2022-01-02T21:43:49.822964Z",
     "iopub.status.busy": "2022-01-02T21:43:49.822777Z",
     "iopub.status.idle": "2022-01-02T21:43:49.839923Z",
     "shell.execute_reply": "2022-01-02T21:43:49.839351Z",
     "shell.execute_reply.started": "2022-01-02T21:43:49.822940Z"
    }
   },
   "outputs": [
    {
     "name": "stdout",
     "output_type": "stream",
     "text": [
      "We have 46 noticeable flares\n"
     ]
    }
   ],
   "source": [
    "big_flares_nb = df.loc[df['total'] > 50_000_000].sort_values(by=['total'], ascending=False)\n",
    "print('We have', len(big_flares_nb), 'noticeable flares')"
   ]
  },
  {
   "cell_type": "markdown",
   "metadata": {},
   "source": [
    "> ⚠️ Warning, this is not relevant for our analysis, because the total is only for the $2^{nd}$ level of energy : $]6-12]KeV$ <br> but it gives us a more vast understanding of our data"
   ]
  },
  {
   "cell_type": "markdown",
   "metadata": {},
   "source": [
    "### Visualization"
   ]
  },
  {
   "cell_type": "code",
   "execution_count": 10,
   "metadata": {
    "execution": {
     "iopub.execute_input": "2022-01-02T21:43:49.841075Z",
     "iopub.status.busy": "2022-01-02T21:43:49.840888Z",
     "iopub.status.idle": "2022-01-02T21:43:50.615416Z",
     "shell.execute_reply": "2022-01-02T21:43:50.614743Z",
     "shell.execute_reply.started": "2022-01-02T21:43:49.841033Z"
    }
   },
   "outputs": [
    {
     "data": {
      "text/plain": [
       "<AxesSubplot:xlabel='year', ylabel='Count'>"
      ]
     },
     "execution_count": 10,
     "metadata": {},
     "output_type": "execute_result"
    },
    {
     "data": {
      "image/png": "[encoded data removed]",
      "text/plain": [
       "<Figure size 1080x576 with 1 Axes>"
      ]
     },
     "metadata": {},
     "output_type": "display_data"
    }
   ],
   "source": [
    "years = df['s_date'].dt.year\n",
    "df_2 = df\n",
    "df_2['year'] = years\n",
    "df_2.head()\n",
    "sns.histplot(df_2['year'], binwidth=1)"
   ]
  },
  {
   "cell_type": "markdown",
   "metadata": {},
   "source": [
    "Now we'll investigate the biggest flares"
   ]
  },
  {
   "cell_type": "markdown",
   "metadata": {},
   "source": [
    "First we need to know if there is a correlation between ```energy level``` and size of the flare (```radial```)"
   ]
  },
  {
   "cell_type": "code",
   "execution_count": 11,
   "metadata": {
    "execution": {
     "iopub.execute_input": "2022-01-02T21:43:50.617829Z",
     "iopub.status.busy": "2022-01-02T21:43:50.617387Z",
     "iopub.status.idle": "2022-01-02T21:43:52.374104Z",
     "shell.execute_reply": "2022-01-02T21:43:52.372760Z",
     "shell.execute_reply.started": "2022-01-02T21:43:50.617776Z"
    }
   },
   "outputs": [
    {
     "data": {
      "text/plain": [
       "<AxesSubplot:xlabel='energy', ylabel='radial'>"
      ]
     },
     "execution_count": 11,
     "metadata": {},
     "output_type": "execute_result"
    },
    {
     "data": {
      "image/png": "[encoded data removed]",
      "text/plain": [
       "<Figure size 1080x576 with 1 Axes>"
      ]
     },
     "metadata": {},
     "output_type": "display_data"
    }
   ],
   "source": [
    "sns.lineplot(data=df, x='energy', y='radial')"
   ]
  },
  {
   "cell_type": "markdown",
   "metadata": {},
   "source": [
    "We can observe that there is some level of correlation, but we'll see that more in deeply afterward"
   ]
  },
  {
   "cell_type": "code",
   "execution_count": 12,
   "metadata": {
    "execution": {
     "iopub.execute_input": "2022-01-02T21:43:52.376566Z",
     "iopub.status.busy": "2022-01-02T21:43:52.376223Z",
     "iopub.status.idle": "2022-01-02T21:43:53.284280Z",
     "shell.execute_reply": "2022-01-02T21:43:53.283079Z",
     "shell.execute_reply.started": "2022-01-02T21:43:52.376519Z"
    }
   },
   "outputs": [
    {
     "data": {
      "text/plain": [
       "count    116143.000000\n",
       "mean        687.896989\n",
       "std         511.364382\n",
       "min           0.000000\n",
       "25%         467.000000\n",
       "50%         759.000000\n",
       "75%         946.000000\n",
       "max       14154.000000\n",
       "Name: radial, dtype: float64"
      ]
     },
     "execution_count": 12,
     "metadata": {},
     "output_type": "execute_result"
    },
    {
     "data": {
      "image/png": "[encoded data removed]",
      "text/plain": [
       "<Figure size 1080x576 with 1 Axes>"
      ]
     },
     "metadata": {},
     "output_type": "display_data"
    }
   ],
   "source": [
    "import numpy as np\n",
    "\n",
    "sns.kdeplot(df[\"radial\"])\n",
    "df['radial'].describe()"
   ]
  },
  {
   "cell_type": "markdown",
   "metadata": {},
   "source": [
    "The bump at $14k$ is weird"
   ]
  },
  {
   "cell_type": "code",
   "execution_count": 13,
   "metadata": {
    "execution": {
     "iopub.execute_input": "2022-01-02T21:43:53.286777Z",
     "iopub.status.busy": "2022-01-02T21:43:53.286344Z",
     "iopub.status.idle": "2022-01-02T21:43:53.308449Z",
     "shell.execute_reply": "2022-01-02T21:43:53.307459Z",
     "shell.execute_reply.started": "2022-01-02T21:43:53.286731Z"
    }
   },
   "outputs": [
    {
     "data": {
      "text/plain": [
       "flare             105\n",
       "s_date            105\n",
       "s_time            105\n",
       "peak              105\n",
       "end               105\n",
       "duration          105\n",
       "peak_count        105\n",
       "total             105\n",
       "energy            105\n",
       "x                 105\n",
       "y                 105\n",
       "radial            105\n",
       "region            105\n",
       "s_date_full       105\n",
       "s_date_full_ts    105\n",
       "peak_ts           105\n",
       "end_ts            105\n",
       "year              105\n",
       "dtype: int64"
      ]
     },
     "execution_count": 13,
     "metadata": {},
     "output_type": "execute_result"
    }
   ],
   "source": [
    "df.loc[df['radial'] > 13999].count()"
   ]
  },
  {
   "cell_type": "code",
   "execution_count": 14,
   "metadata": {
    "execution": {
     "iopub.execute_input": "2022-01-02T21:43:53.310446Z",
     "iopub.status.busy": "2022-01-02T21:43:53.310109Z",
     "iopub.status.idle": "2022-01-02T21:43:53.921426Z",
     "shell.execute_reply": "2022-01-02T21:43:53.920446Z",
     "shell.execute_reply.started": "2022-01-02T21:43:53.310405Z"
    }
   },
   "outputs": [
    {
     "data": {
      "text/plain": [
       "<AxesSubplot:xlabel='radial', ylabel='Count'>"
      ]
     },
     "execution_count": 14,
     "metadata": {},
     "output_type": "execute_result"
    },
    {
     "data": {
      "image/png": "[encoded data removed]",
      "text/plain": [
       "<Figure size 1080x576 with 1 Axes>"
      ]
     },
     "metadata": {},
     "output_type": "display_data"
    }
   ],
   "source": [
    "df_bf = df.loc[df[\"radial\"] > 14130] # Making a dataframe according\n",
    "sns.histplot(df_bf['radial'])"
   ]
  },
  {
   "cell_type": "markdown",
   "metadata": {},
   "source": [
    "It might be an anomaly, we'll keep that in mind"
   ]
  },
  {
   "cell_type": "markdown",
   "metadata": {},
   "source": [
    "## 3. Onto the model"
   ]
  },
  {
   "cell_type": "markdown",
   "metadata": {
    "execution": {
     "iopub.execute_input": "2022-01-02T21:47:19.652391Z",
     "iopub.status.busy": "2022-01-02T21:47:19.651857Z",
     "iopub.status.idle": "2022-01-02T21:47:19.658290Z",
     "shell.execute_reply": "2022-01-02T21:47:19.656835Z",
     "shell.execute_reply.started": "2022-01-02T21:47:19.652335Z"
    }
   },
   "source": [
    "### preparing the data"
   ]
  },
  {
   "cell_type": "markdown",
   "metadata": {
    "execution": {
     "iopub.execute_input": "2022-01-02T21:47:28.373642Z",
     "iopub.status.busy": "2022-01-02T21:47:28.373368Z",
     "iopub.status.idle": "2022-01-02T21:47:28.381740Z",
     "shell.execute_reply": "2022-01-02T21:47:28.380391Z",
     "shell.execute_reply.started": "2022-01-02T21:47:28.373614Z"
    }
   },
   "source": [
    "(a quick recap of the dataset)"
   ]
  },
  {
   "cell_type": "code",
   "execution_count": 15,
   "metadata": {
    "execution": {
     "iopub.execute_input": "2022-01-02T21:43:53.922842Z",
     "iopub.status.busy": "2022-01-02T21:43:53.922656Z",
     "iopub.status.idle": "2022-01-02T21:43:54.089106Z",
     "shell.execute_reply": "2022-01-02T21:43:54.088335Z",
     "shell.execute_reply.started": "2022-01-02T21:43:53.922819Z"
    }
   },
   "outputs": [
    {
     "name": "stdout",
     "output_type": "stream",
     "text": [
      "<class 'pandas.core.frame.DataFrame'>\n",
      "RangeIndex: 116143 entries, 0 to 116142\n",
      "Data columns (total 18 columns):\n",
      " #   Column          Non-Null Count   Dtype         \n",
      "---  ------          --------------   -----         \n",
      " 0   flare           116143 non-null  int64         \n",
      " 1   s_date          116143 non-null  datetime64[ns]\n",
      " 2   s_time          116143 non-null  object        \n",
      " 3   peak            116143 non-null  datetime64[ns]\n",
      " 4   end             116143 non-null  datetime64[ns]\n",
      " 5   duration        116143 non-null  int64         \n",
      " 6   peak_count      116143 non-null  int64         \n",
      " 7   total           116143 non-null  float64       \n",
      " 8   energy          116143 non-null  int64         \n",
      " 9   x               116143 non-null  int64         \n",
      " 10  y               116143 non-null  int64         \n",
      " 11  radial          116143 non-null  int64         \n",
      " 12  region          116143 non-null  int64         \n",
      " 13  s_date_full     116143 non-null  datetime64[ns]\n",
      " 14  s_date_full_ts  116143 non-null  int64         \n",
      " 15  peak_ts         116143 non-null  int64         \n",
      " 16  end_ts          116143 non-null  int64         \n",
      " 17  year            116143 non-null  int64         \n",
      "dtypes: datetime64[ns](4), float64(1), int64(12), object(1)\n",
      "memory usage: 15.9+ MB\n"
     ]
    }
   ],
   "source": [
    "df.info()"
   ]
  },
  {
   "cell_type": "code",
   "execution_count": 26,
   "metadata": {
    "execution": {
     "iopub.execute_input": "2022-01-02T21:45:03.647372Z",
     "iopub.status.busy": "2022-01-02T21:45:03.646844Z",
     "iopub.status.idle": "2022-01-02T21:45:04.585348Z",
     "shell.execute_reply": "2022-01-02T21:45:04.584049Z",
     "shell.execute_reply.started": "2022-01-02T21:45:03.647316Z"
    }
   },
   "outputs": [
    {
     "data": {
      "text/plain": [
       "<AxesSubplot:>"
      ]
     },
     "execution_count": 26,
     "metadata": {},
     "output_type": "execute_result"
    },
    {
     "data": {
      "image/png": "[encoded data removed]",
      "text/plain": [
       "<Figure size 1080x576 with 2 Axes>"
      ]
     },
     "metadata": {},
     "output_type": "display_data"
    }
   ],
   "source": [
    "sns.heatmap(df.corr(), annot = True)"
   ]
  },
  {
   "cell_type": "markdown",
   "metadata": {},
   "source": [
    "Now that we're done with vizualizing, we can create a dataframe specific for models, and dropping the few useless columns lefts"
   ]
  },
  {
   "cell_type": "code",
   "execution_count": 29,
   "metadata": {
    "execution": {
     "iopub.execute_input": "2022-01-02T21:49:03.039975Z",
     "iopub.status.busy": "2022-01-02T21:49:03.039422Z",
     "iopub.status.idle": "2022-01-02T21:49:03.064317Z",
     "shell.execute_reply": "2022-01-02T21:49:03.062609Z",
     "shell.execute_reply.started": "2022-01-02T21:49:03.039916Z"
    }
   },
   "outputs": [
    {
     "data": {
      "text/html": [
       "<div>\n",
       "<style scoped>\n",
       "    .dataframe tbody tr th:only-of-type {\n",
       "        vertical-align: middle;\n",
       "    }\n",
       "\n",
       "    .dataframe tbody tr th {\n",
       "        vertical-align: top;\n",
       "    }\n",
       "\n",
       "    .dataframe thead th {\n",
       "        text-align: right;\n",
       "    }\n",
       "</style>\n",
       "<table border=\"1\" class=\"dataframe\">\n",
       "  <thead>\n",
       "    <tr style=\"text-align: right;\">\n",
       "      <th></th>\n",
       "      <th>duration</th>\n",
       "      <th>peak_count</th>\n",
       "      <th>total</th>\n",
       "      <th>energy</th>\n",
       "      <th>x</th>\n",
       "      <th>y</th>\n",
       "      <th>radial</th>\n",
       "      <th>region</th>\n",
       "      <th>s_date_full</th>\n",
       "      <th>s_date_full_ts</th>\n",
       "      <th>peak_ts</th>\n",
       "      <th>end_ts</th>\n",
       "    </tr>\n",
       "  </thead>\n",
       "  <tbody>\n",
       "    <tr>\n",
       "      <th>0</th>\n",
       "      <td>712</td>\n",
       "      <td>136</td>\n",
       "      <td>167304.0</td>\n",
       "      <td>3</td>\n",
       "      <td>592</td>\n",
       "      <td>-358</td>\n",
       "      <td>692</td>\n",
       "      <td>0</td>\n",
       "      <td>2002-02-12 21:29:56</td>\n",
       "      <td>1013549396</td>\n",
       "      <td>1013549618</td>\n",
       "      <td>1013550108</td>\n",
       "    </tr>\n",
       "    <tr>\n",
       "      <th>1</th>\n",
       "      <td>288</td>\n",
       "      <td>7</td>\n",
       "      <td>9504.0</td>\n",
       "      <td>2</td>\n",
       "      <td>604</td>\n",
       "      <td>-341</td>\n",
       "      <td>694</td>\n",
       "      <td>9811</td>\n",
       "      <td>2002-02-12 21:44:08</td>\n",
       "      <td>1013550248</td>\n",
       "      <td>1013550306</td>\n",
       "      <td>1013550536</td>\n",
       "    </tr>\n",
       "    <tr>\n",
       "      <th>2</th>\n",
       "      <td>216</td>\n",
       "      <td>15</td>\n",
       "      <td>11448.0</td>\n",
       "      <td>2</td>\n",
       "      <td>-310</td>\n",
       "      <td>375</td>\n",
       "      <td>487</td>\n",
       "      <td>9825</td>\n",
       "      <td>2002-02-13 00:53:24</td>\n",
       "      <td>1013561604</td>\n",
       "      <td>1013561694</td>\n",
       "      <td>1013561820</td>\n",
       "    </tr>\n",
       "    <tr>\n",
       "      <th>3</th>\n",
       "      <td>244</td>\n",
       "      <td>20</td>\n",
       "      <td>17400.0</td>\n",
       "      <td>3</td>\n",
       "      <td>-277</td>\n",
       "      <td>378</td>\n",
       "      <td>469</td>\n",
       "      <td>9822</td>\n",
       "      <td>2002-02-13 04:22:52</td>\n",
       "      <td>1013574172</td>\n",
       "      <td>1013574230</td>\n",
       "      <td>1013574416</td>\n",
       "    </tr>\n",
       "    <tr>\n",
       "      <th>4</th>\n",
       "      <td>236</td>\n",
       "      <td>336</td>\n",
       "      <td>313392.0</td>\n",
       "      <td>4</td>\n",
       "      <td>-272</td>\n",
       "      <td>390</td>\n",
       "      <td>476</td>\n",
       "      <td>9825</td>\n",
       "      <td>2002-02-13 07:03:52</td>\n",
       "      <td>1013583832</td>\n",
       "      <td>1013583914</td>\n",
       "      <td>1013584068</td>\n",
       "    </tr>\n",
       "  </tbody>\n",
       "</table>\n",
       "</div>"
      ],
      "text/plain": [
       "   duration  peak_count     total  energy    x    y  radial  region  \\\n",
       "0       712         136  167304.0       3  592 -358     692       0   \n",
       "1       288           7    9504.0       2  604 -341     694    9811   \n",
       "2       216          15   11448.0       2 -310  375     487    9825   \n",
       "3       244          20   17400.0       3 -277  378     469    9822   \n",
       "4       236         336  313392.0       4 -272  390     476    9825   \n",
       "\n",
       "          s_date_full  s_date_full_ts     peak_ts      end_ts  \n",
       "0 2002-02-12 21:29:56      1013549396  1013549618  1013550108  \n",
       "1 2002-02-12 21:44:08      1013550248  1013550306  1013550536  \n",
       "2 2002-02-13 00:53:24      1013561604  1013561694  1013561820  \n",
       "3 2002-02-13 04:22:52      1013574172  1013574230  1013574416  \n",
       "4 2002-02-13 07:03:52      1013583832  1013583914  1013584068  "
      ]
     },
     "execution_count": 29,
     "metadata": {},
     "output_type": "execute_result"
    }
   ],
   "source": [
    "df_m = df\n",
    "df_m = df_m.drop(['flare', 'year', 's_date', 's_time', 'peak', 'end', ], axis=1) # not usefull here\n",
    "df_m.head()"
   ]
  },
  {
   "cell_type": "markdown",
   "metadata": {
    "execution": {
     "iopub.execute_input": "2022-01-02T19:29:02.285173Z",
     "iopub.status.busy": "2022-01-02T19:29:02.284663Z",
     "iopub.status.idle": "2022-01-02T19:29:02.289548Z",
     "shell.execute_reply": "2022-01-02T19:29:02.288934Z",
     "shell.execute_reply.started": "2022-01-02T19:29:02.285115Z"
    }
   },
   "source": [
    "Count time between flares"
   ]
  },
  {
   "cell_type": "code",
   "execution_count": 20,
   "metadata": {
    "execution": {
     "iopub.execute_input": "2022-01-02T21:43:56.325910Z",
     "iopub.status.busy": "2022-01-02T21:43:56.325728Z",
     "iopub.status.idle": "2022-01-02T21:43:57.494018Z",
     "shell.execute_reply": "2022-01-02T21:43:57.492999Z",
     "shell.execute_reply.started": "2022-01-02T21:43:56.325888Z"
    }
   },
   "outputs": [],
   "source": [
    "t_between = df_m['s_date_full'].diff().tolist()\n",
    "t_between = t_between[1:-1] # drop first and last NaN"
   ]
  },
  {
   "cell_type": "markdown",
   "metadata": {},
   "source": [
    "### Kaggle Example"
   ]
  },
  {
   "cell_type": "markdown",
   "metadata": {},
   "source": [
    "from a notebook for eclipse prediction"
   ]
  },
  {
   "cell_type": "markdown",
   "metadata": {},
   "source": [
    "Trying the first approach for prediciton, simple one"
   ]
  },
  {
   "cell_type": "code",
   "execution_count": 21,
   "metadata": {
    "execution": {
     "iopub.execute_input": "2022-01-02T21:43:57.495399Z",
     "iopub.status.busy": "2022-01-02T21:43:57.495207Z",
     "iopub.status.idle": "2022-01-02T21:43:57.595600Z",
     "shell.execute_reply": "2022-01-02T21:43:57.594809Z",
     "shell.execute_reply.started": "2022-01-02T21:43:57.495375Z"
    }
   },
   "outputs": [],
   "source": [
    "from sklearn.svm import SVC\n",
    "from sklearn.neural_network import MLPClassifier\n",
    "from sklearn.ensemble import RandomForestClassifier"
   ]
  },
  {
   "cell_type": "code",
   "execution_count": 22,
   "metadata": {
    "execution": {
     "iopub.execute_input": "2022-01-02T21:43:57.596941Z",
     "iopub.status.busy": "2022-01-02T21:43:57.596756Z",
     "iopub.status.idle": "2022-01-02T21:43:58.146527Z",
     "shell.execute_reply": "2022-01-02T21:43:58.145585Z",
     "shell.execute_reply.started": "2022-01-02T21:43:57.596918Z"
    }
   },
   "outputs": [],
   "source": [
    "today = pd.to_datetime('2017-09-09 00:00:00', format='%Y-%m-%d %H:%M:%S')\n",
    "# print(today, today.total_seconds())\n",
    "\n",
    "df_before = df[df['s_date_full'] <= today]\n",
    "df_after = df[df['s_date_full'] > today]\n",
    "dates_before = df_before['s_date_full'].tolist()\n",
    "dates_after = df_after['s_date_full'].tolist()\n",
    "diff_before = [(j).total_seconds() for j in t_between[:len(dates_before)-1]]  #recorded differences between past flares.\n",
    "diff_after =  [(j).total_seconds() for j in t_between[len(dates_before)-1:]]   #differences betw. future flares to be predicted"
   ]
  },
  {
   "cell_type": "code",
   "execution_count": 23,
   "metadata": {
    "execution": {
     "iopub.execute_input": "2022-01-02T21:43:58.147955Z",
     "iopub.status.busy": "2022-01-02T21:43:58.147771Z",
     "iopub.status.idle": "2022-01-02T21:43:58.483028Z",
     "shell.execute_reply": "2022-01-02T21:43:58.482047Z",
     "shell.execute_reply.started": "2022-01-02T21:43:58.147932Z"
    }
   },
   "outputs": [],
   "source": [
    "N_future = 1   #number of predictions into the future\n",
    "N = 10     #number of past flares used for prediction of next one\n",
    "\n",
    "X = []\n",
    "y = []\n",
    "for j in range(len(diff_before)-N):\n",
    "    X.append(diff_before[j:j+N])\n",
    "    y.append(diff_before[j+N])"
   ]
  },
  {
   "cell_type": "code",
   "execution_count": 24,
   "metadata": {
    "execution": {
     "iopub.execute_input": "2022-01-02T21:43:58.484379Z",
     "iopub.status.busy": "2022-01-02T21:43:58.484173Z",
     "iopub.status.idle": "2022-01-02T21:43:58.867011Z",
     "shell.execute_reply": "2022-01-02T21:43:58.865558Z",
     "shell.execute_reply.started": "2022-01-02T21:43:58.484354Z"
    }
   },
   "outputs": [],
   "source": [
    "# lrn = RandomForestClassifier(1000)\n",
    "# lrn.fit(X, y)"
   ]
  },
  {
   "cell_type": "markdown",
   "metadata": {},
   "source": [
    "## Conclusion"
   ]
  },
  {
   "cell_type": "markdown",
   "metadata": {},
   "source": [
    "Perhaps this dataset and business problem was too much to handle (after all, it really is something almost random that space agencies are trying to solve too !)"
   ]
  },
  {
   "cell_type": "markdown",
   "metadata": {},
   "source": [
    "Bottom line is, we should have staued with something easier to fit into a model, and extract useful insight from."
   ]
  }
 ],
 "metadata": {
  "kernelspec": {
   "display_name": "Python 3",
   "language": "python",
   "name": "python3"
  },
  "language_info": {
   "codemirror_mode": {
    "name": "ipython",
    "version": 3
   },
   "file_extension": ".py",
   "mimetype": "text/x-python",
   "name": "python",
   "nbconvert_exporter": "python",
   "pygments_lexer": "ipython3",
   "version": "3.9.1"
  },
  "toc-autonumbering": true,
  "toc-showmarkdowntxt": false,
  "toc-showtags": false
 },
 "nbformat": 4,
 "nbformat_minor": 4
}
